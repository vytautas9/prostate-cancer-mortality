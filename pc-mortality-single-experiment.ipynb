{
 "cells": [
  {
   "attachments": {},
   "cell_type": "markdown",
   "metadata": {},
   "source": [
    "# Showcase of single experiment."
   ]
  },
  {
   "attachments": {},
   "cell_type": "markdown",
   "metadata": {},
   "source": [
    "The purpose of this notebook is to visualize and understand how a single experiment will be made."
   ]
  },
  {
   "cell_type": "code",
   "execution_count": 81,
   "metadata": {},
   "outputs": [],
   "source": [
    "import pickle\n",
    "import pandas as pd\n",
    "import numpy as np\n",
    "from pathlib import Path\n",
    "\n",
    "from sklearn.metrics import confusion_matrix, classification_report, roc_curve, auc\n",
    "from matplotlib import pyplot as plt\n",
    "\n",
    "import logging"
   ]
  },
  {
   "cell_type": "code",
   "execution_count": 2,
   "metadata": {},
   "outputs": [],
   "source": [
    "# path to cleaned data file\n",
    "dataFilePath = 'data/data_clean.pkl'\n",
    "trainFilePath = 'data/data_train.pkl'\n",
    "testFilePath = 'data/data_test.pkl'"
   ]
  },
  {
   "cell_type": "code",
   "execution_count": 3,
   "metadata": {},
   "outputs": [],
   "source": [
    "# Read already prepared and saved data\n",
    "with open(dataFilePath, 'rb') as f:\n",
    "    data = pickle.load(f)\n",
    "\n",
    "# Read already prepared and saved train/test datasets\n",
    "with open(trainFilePath, 'rb') as f:\n",
    "    data_train = pickle.load(f)\n",
    "\n",
    "with open(testFilePath, 'rb') as f:\n",
    "    data_test = pickle.load(f)"
   ]
  },
  {
   "cell_type": "code",
   "execution_count": 4,
   "metadata": {},
   "outputs": [],
   "source": [
    "# Create dummy variables for categorical data\n",
    "data_train = pd.get_dummies(data_train, columns=['clinical_stage', 'biopsy_gleason_gg', 'pathological_gleason_gg',\n",
    "                                'pathologic_stage', 'lni', 'surgical_margin_status', 'persistent_psa',\n",
    "                                'TRYSgrupes', 'PLNDO1'])\n",
    "data_test = pd.get_dummies(data_test, columns=['clinical_stage', 'biopsy_gleason_gg', 'pathological_gleason_gg',\n",
    "                                'pathologic_stage', 'lni', 'surgical_margin_status', 'persistent_psa',\n",
    "                                'TRYSgrupes', 'PLNDO1'])"
   ]
  },
  {
   "cell_type": "code",
   "execution_count": 5,
   "metadata": {},
   "outputs": [
    {
     "name": "stdout",
     "output_type": "stream",
     "text": [
      "Shape of train:  (1251, 40) \n",
      "\n",
      "Columns of train:  Index(['age', 'psa', 'biopsy_gleason', 'survival_months', 'pathologic_gleason',\n",
      "       'survival_months_bcr', 'survival_months_mts', 'patient_id', 'bcr',\n",
      "       'mts', 'death_from_other_causes', 'cancer_specific_mortality',\n",
      "       'clinical_stage_1', 'clinical_stage_2', 'clinical_stage_3',\n",
      "       'biopsy_gleason_gg_1', 'biopsy_gleason_gg_2', 'biopsy_gleason_gg_3',\n",
      "       'biopsy_gleason_gg_4', 'biopsy_gleason_gg_5',\n",
      "       'pathological_gleason_gg_1', 'pathological_gleason_gg_2',\n",
      "       'pathological_gleason_gg_3', 'pathological_gleason_gg_4',\n",
      "       'pathological_gleason_gg_5', 'pathologic_stage_0', 'pathologic_stage_1',\n",
      "       'pathologic_stage_2', 'lni_0.0', 'lni_1.0', 'lni_unknown',\n",
      "       'surgical_margin_status_0', 'surgical_margin_status_1',\n",
      "       'persistent_psa_0', 'persistent_psa_1', 'TRYSgrupes_0', 'TRYSgrupes_1',\n",
      "       'TRYSgrupes_2', 'PLNDO1_0', 'PLNDO1_1'],\n",
      "      dtype='object') \n",
      "\n",
      "Shape of test:  (313, 40) \n",
      "\n",
      "Columns of test:  Index(['age', 'psa', 'biopsy_gleason', 'survival_months', 'pathologic_gleason',\n",
      "       'survival_months_bcr', 'survival_months_mts', 'patient_id', 'bcr',\n",
      "       'mts', 'death_from_other_causes', 'cancer_specific_mortality',\n",
      "       'clinical_stage_1', 'clinical_stage_2', 'clinical_stage_3',\n",
      "       'biopsy_gleason_gg_1', 'biopsy_gleason_gg_2', 'biopsy_gleason_gg_3',\n",
      "       'biopsy_gleason_gg_4', 'biopsy_gleason_gg_5',\n",
      "       'pathological_gleason_gg_1', 'pathological_gleason_gg_2',\n",
      "       'pathological_gleason_gg_3', 'pathological_gleason_gg_4',\n",
      "       'pathological_gleason_gg_5', 'pathologic_stage_0', 'pathologic_stage_1',\n",
      "       'pathologic_stage_2', 'lni_0.0', 'lni_1.0', 'lni_unknown',\n",
      "       'surgical_margin_status_0', 'surgical_margin_status_1',\n",
      "       'persistent_psa_0', 'persistent_psa_1', 'TRYSgrupes_0', 'TRYSgrupes_1',\n",
      "       'TRYSgrupes_2', 'PLNDO1_0', 'PLNDO1_1'],\n",
      "      dtype='object') \n",
      "\n"
     ]
    }
   ],
   "source": [
    "print('Shape of train: ', data_train.shape, '\\n')\n",
    "print('Columns of train: ', data_train.columns, '\\n')\n",
    "print('Shape of test: ', data_test.shape, '\\n')\n",
    "print('Columns of test: ', data_test.columns, '\\n')"
   ]
  },
  {
   "attachments": {},
   "cell_type": "markdown",
   "metadata": {},
   "source": [
    "First things first, as we have 4 response variable, will have to remove those variables from the feature set which will be fed into the training.  \n",
    "For this experimentation, we'll focus on cancer specific mortality (target_column)"
   ]
  },
  {
   "cell_type": "code",
   "execution_count": 6,
   "metadata": {},
   "outputs": [],
   "source": [
    "# List of columns names which will be dropped from feature set before fitting the model\n",
    "target_columns = ['cancer_specific_mortality', 'death_from_other_causes', 'bcr', 'mts']\n",
    "target_column = 'cancer_specific_mortality'\n",
    "\n",
    "target_columns.remove(target_column)\n",
    "df_train = data_train.copy().drop(target_columns, axis=1)\n",
    "df_test = data_test.copy().drop(target_columns, axis=1)"
   ]
  },
  {
   "attachments": {},
   "cell_type": "markdown",
   "metadata": {},
   "source": [
    "Now our training set will contain features needed for fitting a model + additional columns which will be handled later on (survival_months, survival_months_bcr, survival_months_mts, patient_id).  \n",
    "Note that our training set still contains a target column (cancer_specific_mortality) but this will be removed from the dataset before fitting a model."
   ]
  },
  {
   "cell_type": "code",
   "execution_count": 7,
   "metadata": {},
   "outputs": [
    {
     "name": "stdout",
     "output_type": "stream",
     "text": [
      "Index(['age', 'psa', 'biopsy_gleason', 'survival_months', 'pathologic_gleason',\n",
      "       'survival_months_bcr', 'survival_months_mts', 'patient_id',\n",
      "       'cancer_specific_mortality', 'clinical_stage_1', 'clinical_stage_2',\n",
      "       'clinical_stage_3', 'biopsy_gleason_gg_1', 'biopsy_gleason_gg_2',\n",
      "       'biopsy_gleason_gg_3', 'biopsy_gleason_gg_4', 'biopsy_gleason_gg_5',\n",
      "       'pathological_gleason_gg_1', 'pathological_gleason_gg_2',\n",
      "       'pathological_gleason_gg_3', 'pathological_gleason_gg_4',\n",
      "       'pathological_gleason_gg_5', 'pathologic_stage_0', 'pathologic_stage_1',\n",
      "       'pathologic_stage_2', 'lni_0.0', 'lni_1.0', 'lni_unknown',\n",
      "       'surgical_margin_status_0', 'surgical_margin_status_1',\n",
      "       'persistent_psa_0', 'persistent_psa_1', 'TRYSgrupes_0', 'TRYSgrupes_1',\n",
      "       'TRYSgrupes_2', 'PLNDO1_0', 'PLNDO1_1'],\n",
      "      dtype='object')\n"
     ]
    }
   ],
   "source": [
    "print(df_train.columns)"
   ]
  },
  {
   "cell_type": "code",
   "execution_count": 8,
   "metadata": {},
   "outputs": [
    {
     "name": "stdout",
     "output_type": "stream",
     "text": [
      "Index(['age', 'psa', 'biopsy_gleason', 'survival_months', 'pathologic_gleason',\n",
      "       'survival_months_bcr', 'survival_months_mts', 'patient_id',\n",
      "       'cancer_specific_mortality', 'clinical_stage_1', 'clinical_stage_2',\n",
      "       'clinical_stage_3', 'biopsy_gleason_gg_1', 'biopsy_gleason_gg_2',\n",
      "       'biopsy_gleason_gg_3', 'biopsy_gleason_gg_4', 'biopsy_gleason_gg_5',\n",
      "       'pathological_gleason_gg_1', 'pathological_gleason_gg_2',\n",
      "       'pathological_gleason_gg_3', 'pathological_gleason_gg_4',\n",
      "       'pathological_gleason_gg_5', 'pathologic_stage_0', 'pathologic_stage_1',\n",
      "       'pathologic_stage_2', 'lni_0.0', 'lni_1.0', 'lni_unknown',\n",
      "       'surgical_margin_status_0', 'surgical_margin_status_1',\n",
      "       'persistent_psa_0', 'persistent_psa_1', 'TRYSgrupes_0', 'TRYSgrupes_1',\n",
      "       'TRYSgrupes_2', 'PLNDO1_0', 'PLNDO1_1'],\n",
      "      dtype='object')\n"
     ]
    }
   ],
   "source": [
    "print(df_test.columns)"
   ]
  },
  {
   "attachments": {},
   "cell_type": "markdown",
   "metadata": {},
   "source": [
    "We'll be using a simple logistic regression model"
   ]
  },
  {
   "cell_type": "code",
   "execution_count": 9,
   "metadata": {},
   "outputs": [],
   "source": [
    "# Define the model\n",
    "from sklearn.linear_model import LogisticRegression\n",
    "model = LogisticRegression(solver='liblinear', random_state=0)"
   ]
  },
  {
   "attachments": {},
   "cell_type": "markdown",
   "metadata": {},
   "source": [
    "Because our 2 response variables (mts and bcr) have different survival time column assigned, we'll determine which to use based on target_column:"
   ]
  },
  {
   "cell_type": "code",
   "execution_count": 10,
   "metadata": {},
   "outputs": [
    {
     "name": "stdout",
     "output_type": "stream",
     "text": [
      "survival_months\n"
     ]
    }
   ],
   "source": [
    "# mts and bcr have different survival months columns\n",
    "match target_column:\n",
    "    case 'mts':\n",
    "        time = 'survival_months_mts'\n",
    "    case 'bcr':\n",
    "        time = 'survival_months_bcr'\n",
    "    case _:\n",
    "        time = 'survival_months'\n",
    "\n",
    "print(time)"
   ]
  },
  {
   "attachments": {},
   "cell_type": "markdown",
   "metadata": {},
   "source": [
    "## Exploding training set  \n",
    "Now we will explode our training set:"
   ]
  },
  {
   "attachments": {},
   "cell_type": "markdown",
   "metadata": {},
   "source": [
    "clip(lower, upper) function will help us create a new discrete survival time column. If we specify lower=1 and upper=200, patients who experienced event earlier than 200th month will only have records till their event, on other side, if a patient survived past 200th month, we will clip this information and will only keep information about him til 200th month.\n",
    "\n",
    "Another example, if we specify lower=140 and upper=200, and if the person experienced event at 100th month, we will create records for him till 140th (lower boundary) month."
   ]
  },
  {
   "cell_type": "code",
   "execution_count": 11,
   "metadata": {},
   "outputs": [],
   "source": [
    "df_train_copy = df_train.copy()\n",
    "\n",
    "target_column_discrete = target_column + '_discrete'\n",
    "\n",
    "# We create a new time column and clip the data by provided min and max survival times\n",
    "df_train_copy['survival_time_discrete'] = df_train_copy[time].clip(1,200).apply(range)\n",
    "\n",
    "# Exploding the dataset with the created range value in new time column\n",
    "data_exploded = df_train_copy.explode('survival_time_discrete')\n",
    "data_exploded.reset_index(drop=True, inplace=True)\n",
    "\n",
    "# New column starts at 0, we'll increase each value by 1\n",
    "data_exploded['survival_time_discrete'] = pd.to_numeric(data_exploded['survival_time_discrete']) + 1\n",
    "\n",
    "# New event column, which will indicate the last event date\n",
    "data_exploded[target_column_discrete] = (data_exploded['survival_time_discrete'] >= data_exploded[time]) * pd.to_numeric(data_exploded[target_column])"
   ]
  },
  {
   "attachments": {},
   "cell_type": "markdown",
   "metadata": {},
   "source": [
    "After exploding a dataset, we see our row count went from 1251 (one record per patient) to 134666 (multiple records per patient). We also added 2 new columns (survival_time_discrete and cancer_specific_mortality_discrete)"
   ]
  },
  {
   "cell_type": "code",
   "execution_count": 12,
   "metadata": {},
   "outputs": [
    {
     "name": "stdout",
     "output_type": "stream",
     "text": [
      "dataset shape BEFORE exploding: (1251, 37)\n",
      "dataset shape AFTER exploding: (134666, 39)\n"
     ]
    }
   ],
   "source": [
    "print(f'dataset shape BEFORE exploding: {df_train.shape}')\n",
    "print(f'dataset shape AFTER exploding: {data_exploded.shape}')"
   ]
  },
  {
   "cell_type": "code",
   "execution_count": 13,
   "metadata": {},
   "outputs": [
    {
     "name": "stdout",
     "output_type": "stream",
     "text": [
      "Patient ids who experienced cancer specific mortality in training set:\n",
      "[ 223  393   19 1051   22  624  247  844  615  111    2  855  671   30\n",
      "  243  312  668  193  516  578   17  703  176  594  182  896   20 1412\n",
      "   31  174 1261   28  520  155  179   34 1256   16  173   35  177  623]\n",
      "\n",
      "Patient ids who experienced cancer specific mortality in training set:\n",
      "[1194  125 1554 ... 1180  629 1205]\n",
      "\n",
      "\n",
      "Patient ids who experienced cancer specific mortality in training set and survived past 200th month:\n",
      "[179]\n",
      "\n",
      "Patient ids who experienced cancer specific mortality in training set and survived past 200th month:\n",
      "[1554  323  539  504  506  175  840  546   72  244  551  101  845  556\n",
      "   71  557  178  316  100  593  597 1369  549  560  547  235  313  592\n",
      "  561  503]\n"
     ]
    }
   ],
   "source": [
    "print('Patient ids who experienced cancer specific mortality in training set:')\n",
    "print(data_train.loc[data_train['cancer_specific_mortality'] == '1'].patient_id.values)\n",
    "\n",
    "print('\\nPatient ids who experienced cancer specific mortality in training set:')\n",
    "print(data_train.loc[data_train['cancer_specific_mortality'] == '0'].patient_id.values)\n",
    "\n",
    "\n",
    "print('\\n\\nPatient ids who experienced cancer specific mortality in training set and survived past 200th month:')\n",
    "print(data_train.loc[(data_train['cancer_specific_mortality'] == '1') & (data_train['survival_months'] > 200)].patient_id.values)\n",
    "\n",
    "print('\\nPatient ids who experienced cancer specific mortality in training set and survived past 200th month:')\n",
    "print(data_train.loc[(data_train['cancer_specific_mortality'] == '0') & (data_train['survival_months'] > 200)].patient_id.values)"
   ]
  },
  {
   "attachments": {},
   "cell_type": "markdown",
   "metadata": {},
   "source": [
    "Let's look into one example of a patient who did not experienced death:"
   ]
  },
  {
   "cell_type": "code",
   "execution_count": 14,
   "metadata": {},
   "outputs": [
    {
     "data": {
      "text/html": [
       "<div>\n",
       "<style scoped>\n",
       "    .dataframe tbody tr th:only-of-type {\n",
       "        vertical-align: middle;\n",
       "    }\n",
       "\n",
       "    .dataframe tbody tr th {\n",
       "        vertical-align: top;\n",
       "    }\n",
       "\n",
       "    .dataframe thead th {\n",
       "        text-align: right;\n",
       "    }\n",
       "</style>\n",
       "<table border=\"1\" class=\"dataframe\">\n",
       "  <thead>\n",
       "    <tr style=\"text-align: right;\">\n",
       "      <th></th>\n",
       "      <th>patient_id</th>\n",
       "      <th>age</th>\n",
       "      <th>survival_months</th>\n",
       "      <th>cancer_specific_mortality</th>\n",
       "    </tr>\n",
       "  </thead>\n",
       "  <tbody>\n",
       "    <tr>\n",
       "      <th>132</th>\n",
       "      <td>125</td>\n",
       "      <td>66.0</td>\n",
       "      <td>132</td>\n",
       "      <td>0</td>\n",
       "    </tr>\n",
       "  </tbody>\n",
       "</table>\n",
       "</div>"
      ],
      "text/plain": [
       "     patient_id   age  survival_months cancer_specific_mortality\n",
       "132         125  66.0              132                         0"
      ]
     },
     "execution_count": 14,
     "metadata": {},
     "output_type": "execute_result"
    }
   ],
   "source": [
    "df_train[df_train.patient_id == 125][['patient_id', 'age', 'survival_months', 'cancer_specific_mortality']].head()"
   ]
  },
  {
   "cell_type": "code",
   "execution_count": 15,
   "metadata": {},
   "outputs": [
    {
     "data": {
      "text/html": [
       "<div>\n",
       "<style scoped>\n",
       "    .dataframe tbody tr th:only-of-type {\n",
       "        vertical-align: middle;\n",
       "    }\n",
       "\n",
       "    .dataframe tbody tr th {\n",
       "        vertical-align: top;\n",
       "    }\n",
       "\n",
       "    .dataframe thead th {\n",
       "        text-align: right;\n",
       "    }\n",
       "</style>\n",
       "<table border=\"1\" class=\"dataframe\">\n",
       "  <thead>\n",
       "    <tr style=\"text-align: right;\">\n",
       "      <th></th>\n",
       "      <th>patient_id</th>\n",
       "      <th>age</th>\n",
       "      <th>survival_months</th>\n",
       "      <th>cancer_specific_mortality</th>\n",
       "      <th>survival_time_discrete</th>\n",
       "      <th>cancer_specific_mortality_discrete</th>\n",
       "    </tr>\n",
       "  </thead>\n",
       "  <tbody>\n",
       "    <tr>\n",
       "      <th>59</th>\n",
       "      <td>125</td>\n",
       "      <td>66.0</td>\n",
       "      <td>132</td>\n",
       "      <td>0</td>\n",
       "      <td>1</td>\n",
       "      <td>0</td>\n",
       "    </tr>\n",
       "    <tr>\n",
       "      <th>60</th>\n",
       "      <td>125</td>\n",
       "      <td>66.0</td>\n",
       "      <td>132</td>\n",
       "      <td>0</td>\n",
       "      <td>2</td>\n",
       "      <td>0</td>\n",
       "    </tr>\n",
       "    <tr>\n",
       "      <th>61</th>\n",
       "      <td>125</td>\n",
       "      <td>66.0</td>\n",
       "      <td>132</td>\n",
       "      <td>0</td>\n",
       "      <td>3</td>\n",
       "      <td>0</td>\n",
       "    </tr>\n",
       "    <tr>\n",
       "      <th>62</th>\n",
       "      <td>125</td>\n",
       "      <td>66.0</td>\n",
       "      <td>132</td>\n",
       "      <td>0</td>\n",
       "      <td>4</td>\n",
       "      <td>0</td>\n",
       "    </tr>\n",
       "    <tr>\n",
       "      <th>63</th>\n",
       "      <td>125</td>\n",
       "      <td>66.0</td>\n",
       "      <td>132</td>\n",
       "      <td>0</td>\n",
       "      <td>5</td>\n",
       "      <td>0</td>\n",
       "    </tr>\n",
       "  </tbody>\n",
       "</table>\n",
       "</div>"
      ],
      "text/plain": [
       "    patient_id   age  survival_months cancer_specific_mortality  \\\n",
       "59         125  66.0              132                         0   \n",
       "60         125  66.0              132                         0   \n",
       "61         125  66.0              132                         0   \n",
       "62         125  66.0              132                         0   \n",
       "63         125  66.0              132                         0   \n",
       "\n",
       "    survival_time_discrete  cancer_specific_mortality_discrete  \n",
       "59                       1                                   0  \n",
       "60                       2                                   0  \n",
       "61                       3                                   0  \n",
       "62                       4                                   0  \n",
       "63                       5                                   0  "
      ]
     },
     "execution_count": 15,
     "metadata": {},
     "output_type": "execute_result"
    }
   ],
   "source": [
    "data_exploded[data_exploded.patient_id == 125][['patient_id', 'age', 'survival_months', 'cancer_specific_mortality', 'survival_time_discrete', 'cancer_specific_mortality_discrete']].head()"
   ]
  },
  {
   "cell_type": "code",
   "execution_count": 16,
   "metadata": {},
   "outputs": [
    {
     "data": {
      "text/html": [
       "<div>\n",
       "<style scoped>\n",
       "    .dataframe tbody tr th:only-of-type {\n",
       "        vertical-align: middle;\n",
       "    }\n",
       "\n",
       "    .dataframe tbody tr th {\n",
       "        vertical-align: top;\n",
       "    }\n",
       "\n",
       "    .dataframe thead th {\n",
       "        text-align: right;\n",
       "    }\n",
       "</style>\n",
       "<table border=\"1\" class=\"dataframe\">\n",
       "  <thead>\n",
       "    <tr style=\"text-align: right;\">\n",
       "      <th></th>\n",
       "      <th>patient_id</th>\n",
       "      <th>age</th>\n",
       "      <th>survival_months</th>\n",
       "      <th>cancer_specific_mortality</th>\n",
       "      <th>survival_time_discrete</th>\n",
       "      <th>cancer_specific_mortality_discrete</th>\n",
       "    </tr>\n",
       "  </thead>\n",
       "  <tbody>\n",
       "    <tr>\n",
       "      <th>186</th>\n",
       "      <td>125</td>\n",
       "      <td>66.0</td>\n",
       "      <td>132</td>\n",
       "      <td>0</td>\n",
       "      <td>128</td>\n",
       "      <td>0</td>\n",
       "    </tr>\n",
       "    <tr>\n",
       "      <th>187</th>\n",
       "      <td>125</td>\n",
       "      <td>66.0</td>\n",
       "      <td>132</td>\n",
       "      <td>0</td>\n",
       "      <td>129</td>\n",
       "      <td>0</td>\n",
       "    </tr>\n",
       "    <tr>\n",
       "      <th>188</th>\n",
       "      <td>125</td>\n",
       "      <td>66.0</td>\n",
       "      <td>132</td>\n",
       "      <td>0</td>\n",
       "      <td>130</td>\n",
       "      <td>0</td>\n",
       "    </tr>\n",
       "    <tr>\n",
       "      <th>189</th>\n",
       "      <td>125</td>\n",
       "      <td>66.0</td>\n",
       "      <td>132</td>\n",
       "      <td>0</td>\n",
       "      <td>131</td>\n",
       "      <td>0</td>\n",
       "    </tr>\n",
       "    <tr>\n",
       "      <th>190</th>\n",
       "      <td>125</td>\n",
       "      <td>66.0</td>\n",
       "      <td>132</td>\n",
       "      <td>0</td>\n",
       "      <td>132</td>\n",
       "      <td>0</td>\n",
       "    </tr>\n",
       "  </tbody>\n",
       "</table>\n",
       "</div>"
      ],
      "text/plain": [
       "     patient_id   age  survival_months cancer_specific_mortality  \\\n",
       "186         125  66.0              132                         0   \n",
       "187         125  66.0              132                         0   \n",
       "188         125  66.0              132                         0   \n",
       "189         125  66.0              132                         0   \n",
       "190         125  66.0              132                         0   \n",
       "\n",
       "     survival_time_discrete  cancer_specific_mortality_discrete  \n",
       "186                     128                                   0  \n",
       "187                     129                                   0  \n",
       "188                     130                                   0  \n",
       "189                     131                                   0  \n",
       "190                     132                                   0  "
      ]
     },
     "execution_count": 16,
     "metadata": {},
     "output_type": "execute_result"
    }
   ],
   "source": [
    "data_exploded[data_exploded.patient_id == 125][['patient_id', 'age', 'survival_months', 'cancer_specific_mortality', 'survival_time_discrete', 'cancer_specific_mortality_discrete']].tail()"
   ]
  },
  {
   "attachments": {},
   "cell_type": "markdown",
   "metadata": {},
   "source": [
    "Because we only have information till 132th month for this patient, explosion only exploded the data up to 132th month, so this patient will have 132 records:"
   ]
  },
  {
   "cell_type": "code",
   "execution_count": 17,
   "metadata": {},
   "outputs": [
    {
     "data": {
      "text/plain": [
       "(132, 39)"
      ]
     },
     "execution_count": 17,
     "metadata": {},
     "output_type": "execute_result"
    }
   ],
   "source": [
    "data_exploded[data_exploded.patient_id == 125].shape"
   ]
  },
  {
   "attachments": {},
   "cell_type": "markdown",
   "metadata": {},
   "source": [
    "Another example, where patient did not experienced death but survived past 200th month mark:"
   ]
  },
  {
   "cell_type": "code",
   "execution_count": 18,
   "metadata": {},
   "outputs": [
    {
     "data": {
      "text/html": [
       "<div>\n",
       "<style scoped>\n",
       "    .dataframe tbody tr th:only-of-type {\n",
       "        vertical-align: middle;\n",
       "    }\n",
       "\n",
       "    .dataframe tbody tr th {\n",
       "        vertical-align: top;\n",
       "    }\n",
       "\n",
       "    .dataframe thead th {\n",
       "        text-align: right;\n",
       "    }\n",
       "</style>\n",
       "<table border=\"1\" class=\"dataframe\">\n",
       "  <thead>\n",
       "    <tr style=\"text-align: right;\">\n",
       "      <th></th>\n",
       "      <th>patient_id</th>\n",
       "      <th>age</th>\n",
       "      <th>survival_months</th>\n",
       "      <th>cancer_specific_mortality</th>\n",
       "    </tr>\n",
       "  </thead>\n",
       "  <tbody>\n",
       "    <tr>\n",
       "      <th>1633</th>\n",
       "      <td>1554</td>\n",
       "      <td>62.0</td>\n",
       "      <td>211</td>\n",
       "      <td>0</td>\n",
       "    </tr>\n",
       "  </tbody>\n",
       "</table>\n",
       "</div>"
      ],
      "text/plain": [
       "      patient_id   age  survival_months cancer_specific_mortality\n",
       "1633        1554  62.0              211                         0"
      ]
     },
     "execution_count": 18,
     "metadata": {},
     "output_type": "execute_result"
    }
   ],
   "source": [
    "df_train[df_train.patient_id == 1554][['patient_id', 'age', 'survival_months', 'cancer_specific_mortality']].head()"
   ]
  },
  {
   "cell_type": "code",
   "execution_count": 19,
   "metadata": {},
   "outputs": [
    {
     "data": {
      "text/html": [
       "<div>\n",
       "<style scoped>\n",
       "    .dataframe tbody tr th:only-of-type {\n",
       "        vertical-align: middle;\n",
       "    }\n",
       "\n",
       "    .dataframe tbody tr th {\n",
       "        vertical-align: top;\n",
       "    }\n",
       "\n",
       "    .dataframe thead th {\n",
       "        text-align: right;\n",
       "    }\n",
       "</style>\n",
       "<table border=\"1\" class=\"dataframe\">\n",
       "  <thead>\n",
       "    <tr style=\"text-align: right;\">\n",
       "      <th></th>\n",
       "      <th>patient_id</th>\n",
       "      <th>age</th>\n",
       "      <th>survival_months</th>\n",
       "      <th>cancer_specific_mortality</th>\n",
       "      <th>survival_time_discrete</th>\n",
       "      <th>cancer_specific_mortality_discrete</th>\n",
       "    </tr>\n",
       "  </thead>\n",
       "  <tbody>\n",
       "    <tr>\n",
       "      <th>386</th>\n",
       "      <td>1554</td>\n",
       "      <td>62.0</td>\n",
       "      <td>211</td>\n",
       "      <td>0</td>\n",
       "      <td>196</td>\n",
       "      <td>0</td>\n",
       "    </tr>\n",
       "    <tr>\n",
       "      <th>387</th>\n",
       "      <td>1554</td>\n",
       "      <td>62.0</td>\n",
       "      <td>211</td>\n",
       "      <td>0</td>\n",
       "      <td>197</td>\n",
       "      <td>0</td>\n",
       "    </tr>\n",
       "    <tr>\n",
       "      <th>388</th>\n",
       "      <td>1554</td>\n",
       "      <td>62.0</td>\n",
       "      <td>211</td>\n",
       "      <td>0</td>\n",
       "      <td>198</td>\n",
       "      <td>0</td>\n",
       "    </tr>\n",
       "    <tr>\n",
       "      <th>389</th>\n",
       "      <td>1554</td>\n",
       "      <td>62.0</td>\n",
       "      <td>211</td>\n",
       "      <td>0</td>\n",
       "      <td>199</td>\n",
       "      <td>0</td>\n",
       "    </tr>\n",
       "    <tr>\n",
       "      <th>390</th>\n",
       "      <td>1554</td>\n",
       "      <td>62.0</td>\n",
       "      <td>211</td>\n",
       "      <td>0</td>\n",
       "      <td>200</td>\n",
       "      <td>0</td>\n",
       "    </tr>\n",
       "  </tbody>\n",
       "</table>\n",
       "</div>"
      ],
      "text/plain": [
       "     patient_id   age  survival_months cancer_specific_mortality  \\\n",
       "386        1554  62.0              211                         0   \n",
       "387        1554  62.0              211                         0   \n",
       "388        1554  62.0              211                         0   \n",
       "389        1554  62.0              211                         0   \n",
       "390        1554  62.0              211                         0   \n",
       "\n",
       "     survival_time_discrete  cancer_specific_mortality_discrete  \n",
       "386                     196                                   0  \n",
       "387                     197                                   0  \n",
       "388                     198                                   0  \n",
       "389                     199                                   0  \n",
       "390                     200                                   0  "
      ]
     },
     "execution_count": 19,
     "metadata": {},
     "output_type": "execute_result"
    }
   ],
   "source": [
    "data_exploded[data_exploded.patient_id == 1554][['patient_id', 'age', 'survival_months', 'cancer_specific_mortality', 'survival_time_discrete', 'cancer_specific_mortality_discrete']].tail()"
   ]
  },
  {
   "cell_type": "code",
   "execution_count": 20,
   "metadata": {},
   "outputs": [
    {
     "data": {
      "text/plain": [
       "(200, 39)"
      ]
     },
     "execution_count": 20,
     "metadata": {},
     "output_type": "execute_result"
    }
   ],
   "source": [
    "data_exploded[data_exploded.patient_id == 1554].shape"
   ]
  },
  {
   "attachments": {},
   "cell_type": "markdown",
   "metadata": {},
   "source": [
    "We see that this patient now only has 200 records and we clipped the records at 200th month.  \n",
    "Now let's look into patients who experienced death:"
   ]
  },
  {
   "cell_type": "code",
   "execution_count": 21,
   "metadata": {},
   "outputs": [
    {
     "data": {
      "text/html": [
       "<div>\n",
       "<style scoped>\n",
       "    .dataframe tbody tr th:only-of-type {\n",
       "        vertical-align: middle;\n",
       "    }\n",
       "\n",
       "    .dataframe tbody tr th {\n",
       "        vertical-align: top;\n",
       "    }\n",
       "\n",
       "    .dataframe thead th {\n",
       "        text-align: right;\n",
       "    }\n",
       "</style>\n",
       "<table border=\"1\" class=\"dataframe\">\n",
       "  <thead>\n",
       "    <tr style=\"text-align: right;\">\n",
       "      <th></th>\n",
       "      <th>patient_id</th>\n",
       "      <th>age</th>\n",
       "      <th>survival_months</th>\n",
       "      <th>cancer_specific_mortality</th>\n",
       "    </tr>\n",
       "  </thead>\n",
       "  <tbody>\n",
       "    <tr>\n",
       "      <th>235</th>\n",
       "      <td>223</td>\n",
       "      <td>63.0</td>\n",
       "      <td>25</td>\n",
       "      <td>1</td>\n",
       "    </tr>\n",
       "  </tbody>\n",
       "</table>\n",
       "</div>"
      ],
      "text/plain": [
       "     patient_id   age  survival_months cancer_specific_mortality\n",
       "235         223  63.0               25                         1"
      ]
     },
     "execution_count": 21,
     "metadata": {},
     "output_type": "execute_result"
    }
   ],
   "source": [
    "df_train[df_train.patient_id == 223][['patient_id', 'age', 'survival_months', 'cancer_specific_mortality']].head()"
   ]
  },
  {
   "cell_type": "code",
   "execution_count": 22,
   "metadata": {},
   "outputs": [
    {
     "data": {
      "text/html": [
       "<div>\n",
       "<style scoped>\n",
       "    .dataframe tbody tr th:only-of-type {\n",
       "        vertical-align: middle;\n",
       "    }\n",
       "\n",
       "    .dataframe tbody tr th {\n",
       "        vertical-align: top;\n",
       "    }\n",
       "\n",
       "    .dataframe thead th {\n",
       "        text-align: right;\n",
       "    }\n",
       "</style>\n",
       "<table border=\"1\" class=\"dataframe\">\n",
       "  <thead>\n",
       "    <tr style=\"text-align: right;\">\n",
       "      <th></th>\n",
       "      <th>patient_id</th>\n",
       "      <th>age</th>\n",
       "      <th>survival_months</th>\n",
       "      <th>cancer_specific_mortality</th>\n",
       "      <th>survival_time_discrete</th>\n",
       "      <th>cancer_specific_mortality_discrete</th>\n",
       "    </tr>\n",
       "  </thead>\n",
       "  <tbody>\n",
       "    <tr>\n",
       "      <th>932</th>\n",
       "      <td>223</td>\n",
       "      <td>63.0</td>\n",
       "      <td>25</td>\n",
       "      <td>1</td>\n",
       "      <td>21</td>\n",
       "      <td>0</td>\n",
       "    </tr>\n",
       "    <tr>\n",
       "      <th>933</th>\n",
       "      <td>223</td>\n",
       "      <td>63.0</td>\n",
       "      <td>25</td>\n",
       "      <td>1</td>\n",
       "      <td>22</td>\n",
       "      <td>0</td>\n",
       "    </tr>\n",
       "    <tr>\n",
       "      <th>934</th>\n",
       "      <td>223</td>\n",
       "      <td>63.0</td>\n",
       "      <td>25</td>\n",
       "      <td>1</td>\n",
       "      <td>23</td>\n",
       "      <td>0</td>\n",
       "    </tr>\n",
       "    <tr>\n",
       "      <th>935</th>\n",
       "      <td>223</td>\n",
       "      <td>63.0</td>\n",
       "      <td>25</td>\n",
       "      <td>1</td>\n",
       "      <td>24</td>\n",
       "      <td>0</td>\n",
       "    </tr>\n",
       "    <tr>\n",
       "      <th>936</th>\n",
       "      <td>223</td>\n",
       "      <td>63.0</td>\n",
       "      <td>25</td>\n",
       "      <td>1</td>\n",
       "      <td>25</td>\n",
       "      <td>1</td>\n",
       "    </tr>\n",
       "  </tbody>\n",
       "</table>\n",
       "</div>"
      ],
      "text/plain": [
       "     patient_id   age  survival_months cancer_specific_mortality  \\\n",
       "932         223  63.0               25                         1   \n",
       "933         223  63.0               25                         1   \n",
       "934         223  63.0               25                         1   \n",
       "935         223  63.0               25                         1   \n",
       "936         223  63.0               25                         1   \n",
       "\n",
       "     survival_time_discrete  cancer_specific_mortality_discrete  \n",
       "932                      21                                   0  \n",
       "933                      22                                   0  \n",
       "934                      23                                   0  \n",
       "935                      24                                   0  \n",
       "936                      25                                   1  "
      ]
     },
     "execution_count": 22,
     "metadata": {},
     "output_type": "execute_result"
    }
   ],
   "source": [
    "data_exploded[data_exploded.patient_id == 223][['patient_id', 'age', 'survival_months', 'cancer_specific_mortality', 'survival_time_discrete', 'cancer_specific_mortality_discrete']].tail()"
   ]
  },
  {
   "attachments": {},
   "cell_type": "markdown",
   "metadata": {},
   "source": [
    "Nothing unordinary, the person survived for 25th months and we clipped the explosion at 25th month and the last record marks the event - cancer specific mortality.  \n",
    "Now let's look into example where patient died after our trainable max month - 200"
   ]
  },
  {
   "cell_type": "code",
   "execution_count": 23,
   "metadata": {},
   "outputs": [
    {
     "data": {
      "text/html": [
       "<div>\n",
       "<style scoped>\n",
       "    .dataframe tbody tr th:only-of-type {\n",
       "        vertical-align: middle;\n",
       "    }\n",
       "\n",
       "    .dataframe tbody tr th {\n",
       "        vertical-align: top;\n",
       "    }\n",
       "\n",
       "    .dataframe thead th {\n",
       "        text-align: right;\n",
       "    }\n",
       "</style>\n",
       "<table border=\"1\" class=\"dataframe\">\n",
       "  <thead>\n",
       "    <tr style=\"text-align: right;\">\n",
       "      <th></th>\n",
       "      <th>patient_id</th>\n",
       "      <th>age</th>\n",
       "      <th>survival_months</th>\n",
       "      <th>cancer_specific_mortality</th>\n",
       "    </tr>\n",
       "  </thead>\n",
       "  <tbody>\n",
       "    <tr>\n",
       "      <th>188</th>\n",
       "      <td>179</td>\n",
       "      <td>54.0</td>\n",
       "      <td>203</td>\n",
       "      <td>1</td>\n",
       "    </tr>\n",
       "  </tbody>\n",
       "</table>\n",
       "</div>"
      ],
      "text/plain": [
       "     patient_id   age  survival_months cancer_specific_mortality\n",
       "188         179  54.0              203                         1"
      ]
     },
     "execution_count": 23,
     "metadata": {},
     "output_type": "execute_result"
    }
   ],
   "source": [
    "df_train[df_train.patient_id == 179][['patient_id', 'age', 'survival_months', 'cancer_specific_mortality']].head()"
   ]
  },
  {
   "cell_type": "code",
   "execution_count": 24,
   "metadata": {},
   "outputs": [
    {
     "data": {
      "text/html": [
       "<div>\n",
       "<style scoped>\n",
       "    .dataframe tbody tr th:only-of-type {\n",
       "        vertical-align: middle;\n",
       "    }\n",
       "\n",
       "    .dataframe tbody tr th {\n",
       "        vertical-align: top;\n",
       "    }\n",
       "\n",
       "    .dataframe thead th {\n",
       "        text-align: right;\n",
       "    }\n",
       "</style>\n",
       "<table border=\"1\" class=\"dataframe\">\n",
       "  <thead>\n",
       "    <tr style=\"text-align: right;\">\n",
       "      <th></th>\n",
       "      <th>patient_id</th>\n",
       "      <th>age</th>\n",
       "      <th>survival_months</th>\n",
       "      <th>cancer_specific_mortality</th>\n",
       "      <th>survival_time_discrete</th>\n",
       "      <th>cancer_specific_mortality_discrete</th>\n",
       "    </tr>\n",
       "  </thead>\n",
       "  <tbody>\n",
       "    <tr>\n",
       "      <th>95582</th>\n",
       "      <td>179</td>\n",
       "      <td>54.0</td>\n",
       "      <td>203</td>\n",
       "      <td>1</td>\n",
       "      <td>196</td>\n",
       "      <td>0</td>\n",
       "    </tr>\n",
       "    <tr>\n",
       "      <th>95583</th>\n",
       "      <td>179</td>\n",
       "      <td>54.0</td>\n",
       "      <td>203</td>\n",
       "      <td>1</td>\n",
       "      <td>197</td>\n",
       "      <td>0</td>\n",
       "    </tr>\n",
       "    <tr>\n",
       "      <th>95584</th>\n",
       "      <td>179</td>\n",
       "      <td>54.0</td>\n",
       "      <td>203</td>\n",
       "      <td>1</td>\n",
       "      <td>198</td>\n",
       "      <td>0</td>\n",
       "    </tr>\n",
       "    <tr>\n",
       "      <th>95585</th>\n",
       "      <td>179</td>\n",
       "      <td>54.0</td>\n",
       "      <td>203</td>\n",
       "      <td>1</td>\n",
       "      <td>199</td>\n",
       "      <td>0</td>\n",
       "    </tr>\n",
       "    <tr>\n",
       "      <th>95586</th>\n",
       "      <td>179</td>\n",
       "      <td>54.0</td>\n",
       "      <td>203</td>\n",
       "      <td>1</td>\n",
       "      <td>200</td>\n",
       "      <td>0</td>\n",
       "    </tr>\n",
       "  </tbody>\n",
       "</table>\n",
       "</div>"
      ],
      "text/plain": [
       "       patient_id   age  survival_months cancer_specific_mortality  \\\n",
       "95582         179  54.0              203                         1   \n",
       "95583         179  54.0              203                         1   \n",
       "95584         179  54.0              203                         1   \n",
       "95585         179  54.0              203                         1   \n",
       "95586         179  54.0              203                         1   \n",
       "\n",
       "       survival_time_discrete  cancer_specific_mortality_discrete  \n",
       "95582                     196                                   0  \n",
       "95583                     197                                   0  \n",
       "95584                     198                                   0  \n",
       "95585                     199                                   0  \n",
       "95586                     200                                   0  "
      ]
     },
     "execution_count": 24,
     "metadata": {},
     "output_type": "execute_result"
    }
   ],
   "source": [
    "data_exploded[data_exploded.patient_id == 179][['patient_id', 'age', 'survival_months', 'cancer_specific_mortality', 'survival_time_discrete', 'cancer_specific_mortality_discrete']].tail()"
   ]
  },
  {
   "cell_type": "code",
   "execution_count": 25,
   "metadata": {},
   "outputs": [
    {
     "data": {
      "text/plain": [
       "(200, 39)"
      ]
     },
     "execution_count": 25,
     "metadata": {},
     "output_type": "execute_result"
    }
   ],
   "source": [
    "data_exploded[data_exploded.patient_id == 179].shape"
   ]
  },
  {
   "attachments": {},
   "cell_type": "markdown",
   "metadata": {},
   "source": [
    "We see that even though the person experienced event at 203rd month, we have not captured this in the exploded dataset and in the exploded dataset, we will have 200 records, where the last record sill shows that the person did not experienced event."
   ]
  },
  {
   "attachments": {},
   "cell_type": "markdown",
   "metadata": {},
   "source": [
    "## Fitting a model  \n",
    "Now we will fit our model with the exploded dataset"
   ]
  },
  {
   "cell_type": "code",
   "execution_count": 26,
   "metadata": {},
   "outputs": [],
   "source": [
    "target_column_discrete = target_column + '_discrete'\n",
    "\n",
    "# Drop targets/features from feature set\n",
    "x_columns_to_drop = [target_column, target_column_discrete, 'survival_months', 'survival_months_bcr', 'survival_months_mts', 'patient_id']\n",
    "X_train = data_exploded.drop(x_columns_to_drop, axis=1)    \n",
    "y_train = data_exploded[target_column_discrete]"
   ]
  },
  {
   "attachments": {},
   "cell_type": "markdown",
   "metadata": {},
   "source": [
    "Now the fitting of model will use a feature set X_train, note that this set now only contains feature set and does not contain target column. This set also contains our newly created survival_time_discrete column. The y_train is our response - cancer_specific_mortality_discrete."
   ]
  },
  {
   "cell_type": "code",
   "execution_count": 27,
   "metadata": {},
   "outputs": [
    {
     "name": "stdout",
     "output_type": "stream",
     "text": [
      "Index(['age', 'psa', 'biopsy_gleason', 'pathologic_gleason',\n",
      "       'clinical_stage_1', 'clinical_stage_2', 'clinical_stage_3',\n",
      "       'biopsy_gleason_gg_1', 'biopsy_gleason_gg_2', 'biopsy_gleason_gg_3',\n",
      "       'biopsy_gleason_gg_4', 'biopsy_gleason_gg_5',\n",
      "       'pathological_gleason_gg_1', 'pathological_gleason_gg_2',\n",
      "       'pathological_gleason_gg_3', 'pathological_gleason_gg_4',\n",
      "       'pathological_gleason_gg_5', 'pathologic_stage_0', 'pathologic_stage_1',\n",
      "       'pathologic_stage_2', 'lni_0.0', 'lni_1.0', 'lni_unknown',\n",
      "       'surgical_margin_status_0', 'surgical_margin_status_1',\n",
      "       'persistent_psa_0', 'persistent_psa_1', 'TRYSgrupes_0', 'TRYSgrupes_1',\n",
      "       'TRYSgrupes_2', 'PLNDO1_0', 'PLNDO1_1', 'survival_time_discrete'],\n",
      "      dtype='object')\n"
     ]
    }
   ],
   "source": [
    "print(X_train.columns)"
   ]
  },
  {
   "cell_type": "code",
   "execution_count": 28,
   "metadata": {},
   "outputs": [
    {
     "name": "stdout",
     "output_type": "stream",
     "text": [
      "cancer_specific_mortality_discrete\n"
     ]
    }
   ],
   "source": [
    "print(y_train.name)"
   ]
  },
  {
   "cell_type": "code",
   "execution_count": 29,
   "metadata": {},
   "outputs": [
    {
     "data": {
      "text/html": [
       "<style>#sk-container-id-1 {color: black;background-color: white;}#sk-container-id-1 pre{padding: 0;}#sk-container-id-1 div.sk-toggleable {background-color: white;}#sk-container-id-1 label.sk-toggleable__label {cursor: pointer;display: block;width: 100%;margin-bottom: 0;padding: 0.3em;box-sizing: border-box;text-align: center;}#sk-container-id-1 label.sk-toggleable__label-arrow:before {content: \"▸\";float: left;margin-right: 0.25em;color: #696969;}#sk-container-id-1 label.sk-toggleable__label-arrow:hover:before {color: black;}#sk-container-id-1 div.sk-estimator:hover label.sk-toggleable__label-arrow:before {color: black;}#sk-container-id-1 div.sk-toggleable__content {max-height: 0;max-width: 0;overflow: hidden;text-align: left;background-color: #f0f8ff;}#sk-container-id-1 div.sk-toggleable__content pre {margin: 0.2em;color: black;border-radius: 0.25em;background-color: #f0f8ff;}#sk-container-id-1 input.sk-toggleable__control:checked~div.sk-toggleable__content {max-height: 200px;max-width: 100%;overflow: auto;}#sk-container-id-1 input.sk-toggleable__control:checked~label.sk-toggleable__label-arrow:before {content: \"▾\";}#sk-container-id-1 div.sk-estimator input.sk-toggleable__control:checked~label.sk-toggleable__label {background-color: #d4ebff;}#sk-container-id-1 div.sk-label input.sk-toggleable__control:checked~label.sk-toggleable__label {background-color: #d4ebff;}#sk-container-id-1 input.sk-hidden--visually {border: 0;clip: rect(1px 1px 1px 1px);clip: rect(1px, 1px, 1px, 1px);height: 1px;margin: -1px;overflow: hidden;padding: 0;position: absolute;width: 1px;}#sk-container-id-1 div.sk-estimator {font-family: monospace;background-color: #f0f8ff;border: 1px dotted black;border-radius: 0.25em;box-sizing: border-box;margin-bottom: 0.5em;}#sk-container-id-1 div.sk-estimator:hover {background-color: #d4ebff;}#sk-container-id-1 div.sk-parallel-item::after {content: \"\";width: 100%;border-bottom: 1px solid gray;flex-grow: 1;}#sk-container-id-1 div.sk-label:hover label.sk-toggleable__label {background-color: #d4ebff;}#sk-container-id-1 div.sk-serial::before {content: \"\";position: absolute;border-left: 1px solid gray;box-sizing: border-box;top: 0;bottom: 0;left: 50%;z-index: 0;}#sk-container-id-1 div.sk-serial {display: flex;flex-direction: column;align-items: center;background-color: white;padding-right: 0.2em;padding-left: 0.2em;position: relative;}#sk-container-id-1 div.sk-item {position: relative;z-index: 1;}#sk-container-id-1 div.sk-parallel {display: flex;align-items: stretch;justify-content: center;background-color: white;position: relative;}#sk-container-id-1 div.sk-item::before, #sk-container-id-1 div.sk-parallel-item::before {content: \"\";position: absolute;border-left: 1px solid gray;box-sizing: border-box;top: 0;bottom: 0;left: 50%;z-index: -1;}#sk-container-id-1 div.sk-parallel-item {display: flex;flex-direction: column;z-index: 1;position: relative;background-color: white;}#sk-container-id-1 div.sk-parallel-item:first-child::after {align-self: flex-end;width: 50%;}#sk-container-id-1 div.sk-parallel-item:last-child::after {align-self: flex-start;width: 50%;}#sk-container-id-1 div.sk-parallel-item:only-child::after {width: 0;}#sk-container-id-1 div.sk-dashed-wrapped {border: 1px dashed gray;margin: 0 0.4em 0.5em 0.4em;box-sizing: border-box;padding-bottom: 0.4em;background-color: white;}#sk-container-id-1 div.sk-label label {font-family: monospace;font-weight: bold;display: inline-block;line-height: 1.2em;}#sk-container-id-1 div.sk-label-container {text-align: center;}#sk-container-id-1 div.sk-container {/* jupyter's `normalize.less` sets `[hidden] { display: none; }` but bootstrap.min.css set `[hidden] { display: none !important; }` so we also need the `!important` here to be able to override the default hidden behavior on the sphinx rendered scikit-learn.org. See: https://github.com/scikit-learn/scikit-learn/issues/21755 */display: inline-block !important;position: relative;}#sk-container-id-1 div.sk-text-repr-fallback {display: none;}</style><div id=\"sk-container-id-1\" class=\"sk-top-container\"><div class=\"sk-text-repr-fallback\"><pre>LogisticRegression(random_state=0, solver=&#x27;liblinear&#x27;)</pre><b>In a Jupyter environment, please rerun this cell to show the HTML representation or trust the notebook. <br />On GitHub, the HTML representation is unable to render, please try loading this page with nbviewer.org.</b></div><div class=\"sk-container\" hidden><div class=\"sk-item\"><div class=\"sk-estimator sk-toggleable\"><input class=\"sk-toggleable__control sk-hidden--visually\" id=\"sk-estimator-id-1\" type=\"checkbox\" checked><label for=\"sk-estimator-id-1\" class=\"sk-toggleable__label sk-toggleable__label-arrow\">LogisticRegression</label><div class=\"sk-toggleable__content\"><pre>LogisticRegression(random_state=0, solver=&#x27;liblinear&#x27;)</pre></div></div></div></div></div>"
      ],
      "text/plain": [
       "LogisticRegression(random_state=0, solver='liblinear')"
      ]
     },
     "execution_count": 29,
     "metadata": {},
     "output_type": "execute_result"
    }
   ],
   "source": [
    "model.fit(X_train, y_train)"
   ]
  },
  {
   "attachments": {},
   "cell_type": "markdown",
   "metadata": {},
   "source": [
    "## Evaluating the model  \n",
    "Once we fitted a model with exploded dataset, we have to evaluate it."
   ]
  },
  {
   "attachments": {},
   "cell_type": "markdown",
   "metadata": {},
   "source": [
    "### Training set  \n",
    "To evaluate a model, we'll have to explode the training set again (previous exploded dataset used for training looks a bit different) and it will be done a bit different, we will see how. Now, instead of exploding the dataset with the range [1; 200], we will explode it only for [200; 200], this means that for each patient, we will have 200 records as the lower boundary equals to upper boundary, so the maximum and minimum records per patient will be the same = 200."
   ]
  },
  {
   "attachments": {},
   "cell_type": "markdown",
   "metadata": {},
   "source": [
    "#### Exploding the dataset"
   ]
  },
  {
   "cell_type": "code",
   "execution_count": 45,
   "metadata": {},
   "outputs": [],
   "source": [
    "# Test on training data\n",
    "df_train_copy = df_train.copy()\n",
    "\n",
    "target_column_discrete = target_column + '_discrete'\n",
    "\n",
    "# We create a new time column and clip the data by provided min and max survival times\n",
    "df_train_copy['survival_time_discrete'] = df_train_copy[time].clip(200,200).apply(range)\n",
    "\n",
    "# Exploding the dataset with the created range value in new time column\n",
    "data_exploded = df_train_copy.explode('survival_time_discrete')\n",
    "data_exploded.reset_index(drop=True, inplace=True)\n",
    "\n",
    "# New column starts at 0, we'll increase each value by 1\n",
    "data_exploded['survival_time_discrete'] = pd.to_numeric(data_exploded['survival_time_discrete']) + 1\n",
    "\n",
    "# New event column, which will indicate the last event date\n",
    "data_exploded[target_column_discrete] = (data_exploded['survival_time_discrete'] >= data_exploded[time]) * pd.to_numeric(data_exploded[target_column])\n",
    "\n",
    "target_column_cumulative = target_column + '_cumulative'\n",
    "\n",
    "# Create new event column with duplicated event values from discrete column\n",
    "data_exploded[target_column_cumulative] = data_exploded[target_column_discrete]\n",
    "\n",
    "# For cumulative events, after end_time we will have NA values, we'll replace those with event indicator\n",
    "after_survival_time = data_exploded['survival_time_discrete'] > data_exploded[time]\n",
    "data_exploded.loc[after_survival_time, target_column_discrete] = -1\n",
    "data_exploded[target_column_discrete] = data_exploded[target_column_discrete].replace(-1,np.NaN)\n",
    "data_exploded.loc[(after_survival_time & (data_exploded[target_column]==0)), target_column_cumulative] = -1\n",
    "data_exploded[target_column_cumulative] = data_exploded[target_column_cumulative].replace(-1,np.NaN)"
   ]
  },
  {
   "attachments": {},
   "cell_type": "markdown",
   "metadata": {},
   "source": [
    "Indeed, if we look into number of unique patients and the number of rows we have in exploded dataset, we see that per patient we have 200 rows:"
   ]
  },
  {
   "cell_type": "code",
   "execution_count": 51,
   "metadata": {},
   "outputs": [
    {
     "name": "stdout",
     "output_type": "stream",
     "text": [
      "Unique patients: 1251\n",
      "Rows in exploded dataset: 250200\n",
      "\n",
      "250200 / 1251 = 200.0 \n"
     ]
    }
   ],
   "source": [
    "print(f'Unique patients: {len(pd.unique(data_exploded.patient_id))}')\n",
    "print(f'Rows in exploded dataset: {data_exploded.shape[0]}')\n",
    "print(f'\\n{data_exploded.shape[0]} / {len(pd.unique(data_exploded.patient_id))} = {data_exploded.shape[0] / len(pd.unique(data_exploded.patient_id))} ')"
   ]
  },
  {
   "cell_type": "code",
   "execution_count": 57,
   "metadata": {},
   "outputs": [
    {
     "data": {
      "text/html": [
       "<div>\n",
       "<style scoped>\n",
       "    .dataframe tbody tr th:only-of-type {\n",
       "        vertical-align: middle;\n",
       "    }\n",
       "\n",
       "    .dataframe tbody tr th {\n",
       "        vertical-align: top;\n",
       "    }\n",
       "\n",
       "    .dataframe thead th {\n",
       "        text-align: right;\n",
       "    }\n",
       "</style>\n",
       "<table border=\"1\" class=\"dataframe\">\n",
       "  <thead>\n",
       "    <tr style=\"text-align: right;\">\n",
       "      <th></th>\n",
       "      <th>patient_id</th>\n",
       "      <th>age</th>\n",
       "      <th>survival_months</th>\n",
       "      <th>cancer_specific_mortality</th>\n",
       "      <th>survival_time_discrete</th>\n",
       "      <th>cancer_specific_mortality_discrete</th>\n",
       "      <th>cancer_specific_mortality_cumulative</th>\n",
       "    </tr>\n",
       "  </thead>\n",
       "  <tbody>\n",
       "    <tr>\n",
       "      <th>250036</th>\n",
       "      <td>623</td>\n",
       "      <td>68.0</td>\n",
       "      <td>39</td>\n",
       "      <td>1</td>\n",
       "      <td>37</td>\n",
       "      <td>0.0</td>\n",
       "      <td>0</td>\n",
       "    </tr>\n",
       "    <tr>\n",
       "      <th>250037</th>\n",
       "      <td>623</td>\n",
       "      <td>68.0</td>\n",
       "      <td>39</td>\n",
       "      <td>1</td>\n",
       "      <td>38</td>\n",
       "      <td>0.0</td>\n",
       "      <td>0</td>\n",
       "    </tr>\n",
       "    <tr>\n",
       "      <th>250038</th>\n",
       "      <td>623</td>\n",
       "      <td>68.0</td>\n",
       "      <td>39</td>\n",
       "      <td>1</td>\n",
       "      <td>39</td>\n",
       "      <td>1.0</td>\n",
       "      <td>1</td>\n",
       "    </tr>\n",
       "    <tr>\n",
       "      <th>250039</th>\n",
       "      <td>623</td>\n",
       "      <td>68.0</td>\n",
       "      <td>39</td>\n",
       "      <td>1</td>\n",
       "      <td>40</td>\n",
       "      <td>NaN</td>\n",
       "      <td>1</td>\n",
       "    </tr>\n",
       "    <tr>\n",
       "      <th>250040</th>\n",
       "      <td>623</td>\n",
       "      <td>68.0</td>\n",
       "      <td>39</td>\n",
       "      <td>1</td>\n",
       "      <td>41</td>\n",
       "      <td>NaN</td>\n",
       "      <td>1</td>\n",
       "    </tr>\n",
       "  </tbody>\n",
       "</table>\n",
       "</div>"
      ],
      "text/plain": [
       "        patient_id   age  survival_months cancer_specific_mortality  \\\n",
       "250036         623  68.0               39                         1   \n",
       "250037         623  68.0               39                         1   \n",
       "250038         623  68.0               39                         1   \n",
       "250039         623  68.0               39                         1   \n",
       "250040         623  68.0               39                         1   \n",
       "\n",
       "        survival_time_discrete  cancer_specific_mortality_discrete  \\\n",
       "250036                      37                                 0.0   \n",
       "250037                      38                                 0.0   \n",
       "250038                      39                                 1.0   \n",
       "250039                      40                                 NaN   \n",
       "250040                      41                                 NaN   \n",
       "\n",
       "        cancer_specific_mortality_cumulative  \n",
       "250036                                     0  \n",
       "250037                                     0  \n",
       "250038                                     1  \n",
       "250039                                     1  \n",
       "250040                                     1  "
      ]
     },
     "execution_count": 57,
     "metadata": {},
     "output_type": "execute_result"
    }
   ],
   "source": [
    "data_exploded[(data_exploded.patient_id == 623) & (data_exploded.survival_time_discrete.isin([37, 38, 39, 40, 41]))][['patient_id', 'age', 'survival_months', 'cancer_specific_mortality', \n",
    "                                                                                                               'survival_time_discrete', 'cancer_specific_mortality_discrete', \n",
    "                                                                                                               'cancer_specific_mortality_cumulative']]"
   ]
  },
  {
   "attachments": {},
   "cell_type": "markdown",
   "metadata": {},
   "source": [
    "Now we have, that for this patient, who experienced cancer specific mortality at 39th month, we added much more records. At discrete time, 39th month is the month when the event has occured\n",
    "but after that, in discrete mortality column, all records past 39th month will be NaN. Newly added cumulative column will continue showing event occurence after 39th month up to our max time = 200"
   ]
  },
  {
   "attachments": {},
   "cell_type": "markdown",
   "metadata": {},
   "source": [
    "#### Using the model to predict mortality  \n",
    "We've came to the fun part -> using our model to predict mortality probabilities for this dataset.  \n",
    "To do so, we'll also remove columns which are not used for the prediction."
   ]
  },
  {
   "cell_type": "code",
   "execution_count": 60,
   "metadata": {},
   "outputs": [],
   "source": [
    "x_columns_to_drop = [target_column, target_column+'_discrete', target_column+'_cumulative', 'survival_months', 'survival_months_bcr', 'survival_months_mts', 'patient_id']\n",
    "X_df = data_exploded.drop(x_columns_to_drop, axis=1)\n",
    "\n",
    "# probabilities\n",
    "y_pred = model.predict_proba(X_df)[:,1]\n",
    "data_exploded['mortality_instant_prob'] = y_pred"
   ]
  },
  {
   "cell_type": "code",
   "execution_count": 61,
   "metadata": {},
   "outputs": [
    {
     "data": {
      "text/html": [
       "<div>\n",
       "<style scoped>\n",
       "    .dataframe tbody tr th:only-of-type {\n",
       "        vertical-align: middle;\n",
       "    }\n",
       "\n",
       "    .dataframe tbody tr th {\n",
       "        vertical-align: top;\n",
       "    }\n",
       "\n",
       "    .dataframe thead th {\n",
       "        text-align: right;\n",
       "    }\n",
       "</style>\n",
       "<table border=\"1\" class=\"dataframe\">\n",
       "  <thead>\n",
       "    <tr style=\"text-align: right;\">\n",
       "      <th></th>\n",
       "      <th>patient_id</th>\n",
       "      <th>age</th>\n",
       "      <th>survival_months</th>\n",
       "      <th>cancer_specific_mortality</th>\n",
       "      <th>survival_time_discrete</th>\n",
       "      <th>cancer_specific_mortality_discrete</th>\n",
       "      <th>cancer_specific_mortality_cumulative</th>\n",
       "      <th>mortality_instant_prob</th>\n",
       "    </tr>\n",
       "  </thead>\n",
       "  <tbody>\n",
       "    <tr>\n",
       "      <th>250036</th>\n",
       "      <td>623</td>\n",
       "      <td>68.0</td>\n",
       "      <td>39</td>\n",
       "      <td>1</td>\n",
       "      <td>37</td>\n",
       "      <td>0.0</td>\n",
       "      <td>0</td>\n",
       "      <td>0.000886</td>\n",
       "    </tr>\n",
       "    <tr>\n",
       "      <th>250037</th>\n",
       "      <td>623</td>\n",
       "      <td>68.0</td>\n",
       "      <td>39</td>\n",
       "      <td>1</td>\n",
       "      <td>38</td>\n",
       "      <td>0.0</td>\n",
       "      <td>0</td>\n",
       "      <td>0.000896</td>\n",
       "    </tr>\n",
       "    <tr>\n",
       "      <th>250038</th>\n",
       "      <td>623</td>\n",
       "      <td>68.0</td>\n",
       "      <td>39</td>\n",
       "      <td>1</td>\n",
       "      <td>39</td>\n",
       "      <td>1.0</td>\n",
       "      <td>1</td>\n",
       "      <td>0.000906</td>\n",
       "    </tr>\n",
       "    <tr>\n",
       "      <th>250039</th>\n",
       "      <td>623</td>\n",
       "      <td>68.0</td>\n",
       "      <td>39</td>\n",
       "      <td>1</td>\n",
       "      <td>40</td>\n",
       "      <td>NaN</td>\n",
       "      <td>1</td>\n",
       "      <td>0.000916</td>\n",
       "    </tr>\n",
       "    <tr>\n",
       "      <th>250040</th>\n",
       "      <td>623</td>\n",
       "      <td>68.0</td>\n",
       "      <td>39</td>\n",
       "      <td>1</td>\n",
       "      <td>41</td>\n",
       "      <td>NaN</td>\n",
       "      <td>1</td>\n",
       "      <td>0.000926</td>\n",
       "    </tr>\n",
       "  </tbody>\n",
       "</table>\n",
       "</div>"
      ],
      "text/plain": [
       "        patient_id   age  survival_months cancer_specific_mortality  \\\n",
       "250036         623  68.0               39                         1   \n",
       "250037         623  68.0               39                         1   \n",
       "250038         623  68.0               39                         1   \n",
       "250039         623  68.0               39                         1   \n",
       "250040         623  68.0               39                         1   \n",
       "\n",
       "        survival_time_discrete  cancer_specific_mortality_discrete  \\\n",
       "250036                      37                                 0.0   \n",
       "250037                      38                                 0.0   \n",
       "250038                      39                                 1.0   \n",
       "250039                      40                                 NaN   \n",
       "250040                      41                                 NaN   \n",
       "\n",
       "        cancer_specific_mortality_cumulative  mortality_instant_prob  \n",
       "250036                                     0                0.000886  \n",
       "250037                                     0                0.000896  \n",
       "250038                                     1                0.000906  \n",
       "250039                                     1                0.000916  \n",
       "250040                                     1                0.000926  "
      ]
     },
     "execution_count": 61,
     "metadata": {},
     "output_type": "execute_result"
    }
   ],
   "source": [
    "data_exploded[(data_exploded.patient_id == 623) & (data_exploded.survival_time_discrete.isin([37, 38, 39, 40, 41]))][['patient_id', 'age', 'survival_months', 'cancer_specific_mortality', \n",
    "                                                                                                               'survival_time_discrete', 'cancer_specific_mortality_discrete', \n",
    "                                                                                                               'cancer_specific_mortality_cumulative', 'mortality_instant_prob']]"
   ]
  },
  {
   "attachments": {},
   "cell_type": "markdown",
   "metadata": {},
   "source": [
    "What our model did is it calculated a probability that a patient will experience an event right at that specific timestamp (for example 39th month after diagnosis).  \n",
    "We call this instant mortality probability. Now, instant probability usually is not what we are looking for, we are looking for a probability of event UP TO Xth month.  \n",
    "So in reality, we have to calculate cumulative mortality porbability:"
   ]
  },
  {
   "cell_type": "code",
   "execution_count": 64,
   "metadata": {},
   "outputs": [],
   "source": [
    "data_copy = data_exploded.copy()\n",
    "\n",
    "#data_copy = data_copy[ ['patient_id', 'mortality_instant_prob'] ]\n",
    "\n",
    "data_copy['negative_log_prob'] = np.log( 1 - data_copy['mortality_instant_prob'] )\n",
    "\n",
    "data_copy['cumulative_hazard'] = 1 - np.exp(data_copy.groupby('patient_id')['negative_log_prob'].transform(pd.Series.cumsum))"
   ]
  },
  {
   "cell_type": "code",
   "execution_count": 67,
   "metadata": {},
   "outputs": [
    {
     "data": {
      "text/html": [
       "<div>\n",
       "<style scoped>\n",
       "    .dataframe tbody tr th:only-of-type {\n",
       "        vertical-align: middle;\n",
       "    }\n",
       "\n",
       "    .dataframe tbody tr th {\n",
       "        vertical-align: top;\n",
       "    }\n",
       "\n",
       "    .dataframe thead th {\n",
       "        text-align: right;\n",
       "    }\n",
       "</style>\n",
       "<table border=\"1\" class=\"dataframe\">\n",
       "  <thead>\n",
       "    <tr style=\"text-align: right;\">\n",
       "      <th></th>\n",
       "      <th>patient_id</th>\n",
       "      <th>age</th>\n",
       "      <th>survival_months</th>\n",
       "      <th>cancer_specific_mortality</th>\n",
       "      <th>survival_time_discrete</th>\n",
       "      <th>cancer_specific_mortality_discrete</th>\n",
       "      <th>cancer_specific_mortality_cumulative</th>\n",
       "      <th>mortality_instant_prob</th>\n",
       "      <th>negative_log_prob</th>\n",
       "      <th>cumulative_hazard</th>\n",
       "    </tr>\n",
       "  </thead>\n",
       "  <tbody>\n",
       "    <tr>\n",
       "      <th>250000</th>\n",
       "      <td>623</td>\n",
       "      <td>68.0</td>\n",
       "      <td>39</td>\n",
       "      <td>1</td>\n",
       "      <td>1</td>\n",
       "      <td>0.0</td>\n",
       "      <td>0</td>\n",
       "      <td>0.000594</td>\n",
       "      <td>-0.000595</td>\n",
       "      <td>0.000594</td>\n",
       "    </tr>\n",
       "    <tr>\n",
       "      <th>250001</th>\n",
       "      <td>623</td>\n",
       "      <td>68.0</td>\n",
       "      <td>39</td>\n",
       "      <td>1</td>\n",
       "      <td>2</td>\n",
       "      <td>0.0</td>\n",
       "      <td>0</td>\n",
       "      <td>0.000601</td>\n",
       "      <td>-0.000601</td>\n",
       "      <td>0.001195</td>\n",
       "    </tr>\n",
       "    <tr>\n",
       "      <th>250002</th>\n",
       "      <td>623</td>\n",
       "      <td>68.0</td>\n",
       "      <td>39</td>\n",
       "      <td>1</td>\n",
       "      <td>3</td>\n",
       "      <td>0.0</td>\n",
       "      <td>0</td>\n",
       "      <td>0.000608</td>\n",
       "      <td>-0.000608</td>\n",
       "      <td>0.001802</td>\n",
       "    </tr>\n",
       "    <tr>\n",
       "      <th>250003</th>\n",
       "      <td>623</td>\n",
       "      <td>68.0</td>\n",
       "      <td>39</td>\n",
       "      <td>1</td>\n",
       "      <td>4</td>\n",
       "      <td>0.0</td>\n",
       "      <td>0</td>\n",
       "      <td>0.000615</td>\n",
       "      <td>-0.000615</td>\n",
       "      <td>0.002416</td>\n",
       "    </tr>\n",
       "    <tr>\n",
       "      <th>250004</th>\n",
       "      <td>623</td>\n",
       "      <td>68.0</td>\n",
       "      <td>39</td>\n",
       "      <td>1</td>\n",
       "      <td>5</td>\n",
       "      <td>0.0</td>\n",
       "      <td>0</td>\n",
       "      <td>0.000621</td>\n",
       "      <td>-0.000622</td>\n",
       "      <td>0.003036</td>\n",
       "    </tr>\n",
       "    <tr>\n",
       "      <th>...</th>\n",
       "      <td>...</td>\n",
       "      <td>...</td>\n",
       "      <td>...</td>\n",
       "      <td>...</td>\n",
       "      <td>...</td>\n",
       "      <td>...</td>\n",
       "      <td>...</td>\n",
       "      <td>...</td>\n",
       "      <td>...</td>\n",
       "      <td>...</td>\n",
       "    </tr>\n",
       "    <tr>\n",
       "      <th>250195</th>\n",
       "      <td>623</td>\n",
       "      <td>68.0</td>\n",
       "      <td>39</td>\n",
       "      <td>1</td>\n",
       "      <td>196</td>\n",
       "      <td>NaN</td>\n",
       "      <td>1</td>\n",
       "      <td>0.005155</td>\n",
       "      <td>-0.005169</td>\n",
       "      <td>0.339995</td>\n",
       "    </tr>\n",
       "    <tr>\n",
       "      <th>250196</th>\n",
       "      <td>623</td>\n",
       "      <td>68.0</td>\n",
       "      <td>39</td>\n",
       "      <td>1</td>\n",
       "      <td>197</td>\n",
       "      <td>NaN</td>\n",
       "      <td>1</td>\n",
       "      <td>0.005213</td>\n",
       "      <td>-0.005226</td>\n",
       "      <td>0.343435</td>\n",
       "    </tr>\n",
       "    <tr>\n",
       "      <th>250197</th>\n",
       "      <td>623</td>\n",
       "      <td>68.0</td>\n",
       "      <td>39</td>\n",
       "      <td>1</td>\n",
       "      <td>198</td>\n",
       "      <td>NaN</td>\n",
       "      <td>1</td>\n",
       "      <td>0.005270</td>\n",
       "      <td>-0.005284</td>\n",
       "      <td>0.346895</td>\n",
       "    </tr>\n",
       "    <tr>\n",
       "      <th>250198</th>\n",
       "      <td>623</td>\n",
       "      <td>68.0</td>\n",
       "      <td>39</td>\n",
       "      <td>1</td>\n",
       "      <td>199</td>\n",
       "      <td>NaN</td>\n",
       "      <td>1</td>\n",
       "      <td>0.005329</td>\n",
       "      <td>-0.005343</td>\n",
       "      <td>0.350376</td>\n",
       "    </tr>\n",
       "    <tr>\n",
       "      <th>250199</th>\n",
       "      <td>623</td>\n",
       "      <td>68.0</td>\n",
       "      <td>39</td>\n",
       "      <td>1</td>\n",
       "      <td>200</td>\n",
       "      <td>NaN</td>\n",
       "      <td>1</td>\n",
       "      <td>0.005388</td>\n",
       "      <td>-0.005403</td>\n",
       "      <td>0.353876</td>\n",
       "    </tr>\n",
       "  </tbody>\n",
       "</table>\n",
       "<p>200 rows × 10 columns</p>\n",
       "</div>"
      ],
      "text/plain": [
       "        patient_id   age  survival_months cancer_specific_mortality  \\\n",
       "250000         623  68.0               39                         1   \n",
       "250001         623  68.0               39                         1   \n",
       "250002         623  68.0               39                         1   \n",
       "250003         623  68.0               39                         1   \n",
       "250004         623  68.0               39                         1   \n",
       "...            ...   ...              ...                       ...   \n",
       "250195         623  68.0               39                         1   \n",
       "250196         623  68.0               39                         1   \n",
       "250197         623  68.0               39                         1   \n",
       "250198         623  68.0               39                         1   \n",
       "250199         623  68.0               39                         1   \n",
       "\n",
       "        survival_time_discrete  cancer_specific_mortality_discrete  \\\n",
       "250000                       1                                 0.0   \n",
       "250001                       2                                 0.0   \n",
       "250002                       3                                 0.0   \n",
       "250003                       4                                 0.0   \n",
       "250004                       5                                 0.0   \n",
       "...                        ...                                 ...   \n",
       "250195                     196                                 NaN   \n",
       "250196                     197                                 NaN   \n",
       "250197                     198                                 NaN   \n",
       "250198                     199                                 NaN   \n",
       "250199                     200                                 NaN   \n",
       "\n",
       "        cancer_specific_mortality_cumulative  mortality_instant_prob  \\\n",
       "250000                                     0                0.000594   \n",
       "250001                                     0                0.000601   \n",
       "250002                                     0                0.000608   \n",
       "250003                                     0                0.000615   \n",
       "250004                                     0                0.000621   \n",
       "...                                      ...                     ...   \n",
       "250195                                     1                0.005155   \n",
       "250196                                     1                0.005213   \n",
       "250197                                     1                0.005270   \n",
       "250198                                     1                0.005329   \n",
       "250199                                     1                0.005388   \n",
       "\n",
       "        negative_log_prob  cumulative_hazard  \n",
       "250000          -0.000595           0.000594  \n",
       "250001          -0.000601           0.001195  \n",
       "250002          -0.000608           0.001802  \n",
       "250003          -0.000615           0.002416  \n",
       "250004          -0.000622           0.003036  \n",
       "...                   ...                ...  \n",
       "250195          -0.005169           0.339995  \n",
       "250196          -0.005226           0.343435  \n",
       "250197          -0.005284           0.346895  \n",
       "250198          -0.005343           0.350376  \n",
       "250199          -0.005403           0.353876  \n",
       "\n",
       "[200 rows x 10 columns]"
      ]
     },
     "execution_count": 67,
     "metadata": {},
     "output_type": "execute_result"
    }
   ],
   "source": [
    "data_copy[data_copy.patient_id == 623][['patient_id', 'age', 'survival_months', 'cancer_specific_mortality', \n",
    "                                                                                                               'survival_time_discrete', 'cancer_specific_mortality_discrete', \n",
    "                                                                                                               'cancer_specific_mortality_cumulative', 'mortality_instant_prob',\n",
    "                                                                                                               'negative_log_prob', 'cumulative_hazard']]"
   ]
  },
  {
   "attachments": {},
   "cell_type": "markdown",
   "metadata": {},
   "source": [
    "Now we have both - instant probability and cumulative hazard. Cumulative hazard simply can be thought like: at 2th month the calculation looks like:  \n",
    "1 - ((1 - 0.000601) * (1 - 0.000594)) = 0.0011946...  \n",
    "Using this cumulative hazard, we can calculate AUC metrics"
   ]
  },
  {
   "attachments": {},
   "cell_type": "markdown",
   "metadata": {},
   "source": [
    "#### AUC for single slice  \n",
    "Now that we have our predictions and we exploded the dataset with cumulative events, let's calculate AUC metric:"
   ]
  },
  {
   "attachments": {},
   "cell_type": "markdown",
   "metadata": {},
   "source": [
    "We will do one slice for this experiment, let's see how well we predict <= 24 months:"
   ]
  },
  {
   "cell_type": "code",
   "execution_count": 73,
   "metadata": {},
   "outputs": [],
   "source": [
    "month = 24\n",
    "\n",
    "# Selecting a subset of data based on the months\n",
    "select = (data_copy['survival_time_discrete'] == month) & pd.notna(data_copy[target_column+'_cumulative'])\n",
    "sub_dat = data_copy[select]"
   ]
  },
  {
   "cell_type": "code",
   "execution_count": 74,
   "metadata": {},
   "outputs": [
    {
     "data": {
      "text/html": [
       "<div>\n",
       "<style scoped>\n",
       "    .dataframe tbody tr th:only-of-type {\n",
       "        vertical-align: middle;\n",
       "    }\n",
       "\n",
       "    .dataframe tbody tr th {\n",
       "        vertical-align: top;\n",
       "    }\n",
       "\n",
       "    .dataframe thead th {\n",
       "        text-align: right;\n",
       "    }\n",
       "</style>\n",
       "<table border=\"1\" class=\"dataframe\">\n",
       "  <thead>\n",
       "    <tr style=\"text-align: right;\">\n",
       "      <th></th>\n",
       "      <th>age</th>\n",
       "      <th>psa</th>\n",
       "      <th>biopsy_gleason</th>\n",
       "      <th>survival_months</th>\n",
       "      <th>pathologic_gleason</th>\n",
       "      <th>survival_months_bcr</th>\n",
       "      <th>survival_months_mts</th>\n",
       "      <th>patient_id</th>\n",
       "      <th>cancer_specific_mortality</th>\n",
       "      <th>clinical_stage_1</th>\n",
       "      <th>...</th>\n",
       "      <th>TRYSgrupes_1</th>\n",
       "      <th>TRYSgrupes_2</th>\n",
       "      <th>PLNDO1_0</th>\n",
       "      <th>PLNDO1_1</th>\n",
       "      <th>survival_time_discrete</th>\n",
       "      <th>cancer_specific_mortality_discrete</th>\n",
       "      <th>cancer_specific_mortality_cumulative</th>\n",
       "      <th>mortality_instant_prob</th>\n",
       "      <th>negative_log_prob</th>\n",
       "      <th>cumulative_hazard</th>\n",
       "    </tr>\n",
       "  </thead>\n",
       "  <tbody>\n",
       "    <tr>\n",
       "      <th>23</th>\n",
       "      <td>73.0</td>\n",
       "      <td>6.36</td>\n",
       "      <td>6.0</td>\n",
       "      <td>59</td>\n",
       "      <td>7.0</td>\n",
       "      <td>34</td>\n",
       "      <td>39</td>\n",
       "      <td>1194</td>\n",
       "      <td>0</td>\n",
       "      <td>0</td>\n",
       "      <td>...</td>\n",
       "      <td>1</td>\n",
       "      <td>0</td>\n",
       "      <td>1</td>\n",
       "      <td>0</td>\n",
       "      <td>24</td>\n",
       "      <td>0.0</td>\n",
       "      <td>0</td>\n",
       "      <td>0.000201</td>\n",
       "      <td>-0.000201</td>\n",
       "      <td>0.004241</td>\n",
       "    </tr>\n",
       "    <tr>\n",
       "      <th>223</th>\n",
       "      <td>66.0</td>\n",
       "      <td>10.40</td>\n",
       "      <td>7.0</td>\n",
       "      <td>132</td>\n",
       "      <td>7.0</td>\n",
       "      <td>132</td>\n",
       "      <td>132</td>\n",
       "      <td>125</td>\n",
       "      <td>0</td>\n",
       "      <td>0</td>\n",
       "      <td>...</td>\n",
       "      <td>0</td>\n",
       "      <td>1</td>\n",
       "      <td>0</td>\n",
       "      <td>1</td>\n",
       "      <td>24</td>\n",
       "      <td>0.0</td>\n",
       "      <td>0</td>\n",
       "      <td>0.000131</td>\n",
       "      <td>-0.000131</td>\n",
       "      <td>0.002775</td>\n",
       "    </tr>\n",
       "    <tr>\n",
       "      <th>423</th>\n",
       "      <td>62.0</td>\n",
       "      <td>8.05</td>\n",
       "      <td>4.0</td>\n",
       "      <td>211</td>\n",
       "      <td>4.0</td>\n",
       "      <td>207</td>\n",
       "      <td>207</td>\n",
       "      <td>1554</td>\n",
       "      <td>0</td>\n",
       "      <td>0</td>\n",
       "      <td>...</td>\n",
       "      <td>0</td>\n",
       "      <td>0</td>\n",
       "      <td>1</td>\n",
       "      <td>0</td>\n",
       "      <td>24</td>\n",
       "      <td>0.0</td>\n",
       "      <td>0</td>\n",
       "      <td>0.000849</td>\n",
       "      <td>-0.000849</td>\n",
       "      <td>0.017829</td>\n",
       "    </tr>\n",
       "    <tr>\n",
       "      <th>623</th>\n",
       "      <td>69.0</td>\n",
       "      <td>16.05</td>\n",
       "      <td>6.0</td>\n",
       "      <td>101</td>\n",
       "      <td>6.0</td>\n",
       "      <td>38</td>\n",
       "      <td>38</td>\n",
       "      <td>267</td>\n",
       "      <td>0</td>\n",
       "      <td>0</td>\n",
       "      <td>...</td>\n",
       "      <td>1</td>\n",
       "      <td>0</td>\n",
       "      <td>0</td>\n",
       "      <td>1</td>\n",
       "      <td>24</td>\n",
       "      <td>0.0</td>\n",
       "      <td>0</td>\n",
       "      <td>0.000032</td>\n",
       "      <td>-0.000032</td>\n",
       "      <td>0.000668</td>\n",
       "    </tr>\n",
       "    <tr>\n",
       "      <th>823</th>\n",
       "      <td>66.0</td>\n",
       "      <td>7.22</td>\n",
       "      <td>7.0</td>\n",
       "      <td>46</td>\n",
       "      <td>7.0</td>\n",
       "      <td>11</td>\n",
       "      <td>11</td>\n",
       "      <td>1204</td>\n",
       "      <td>0</td>\n",
       "      <td>0</td>\n",
       "      <td>...</td>\n",
       "      <td>1</td>\n",
       "      <td>0</td>\n",
       "      <td>1</td>\n",
       "      <td>0</td>\n",
       "      <td>24</td>\n",
       "      <td>0.0</td>\n",
       "      <td>0</td>\n",
       "      <td>0.000154</td>\n",
       "      <td>-0.000154</td>\n",
       "      <td>0.003267</td>\n",
       "    </tr>\n",
       "    <tr>\n",
       "      <th>...</th>\n",
       "      <td>...</td>\n",
       "      <td>...</td>\n",
       "      <td>...</td>\n",
       "      <td>...</td>\n",
       "      <td>...</td>\n",
       "      <td>...</td>\n",
       "      <td>...</td>\n",
       "      <td>...</td>\n",
       "      <td>...</td>\n",
       "      <td>...</td>\n",
       "      <td>...</td>\n",
       "      <td>...</td>\n",
       "      <td>...</td>\n",
       "      <td>...</td>\n",
       "      <td>...</td>\n",
       "      <td>...</td>\n",
       "      <td>...</td>\n",
       "      <td>...</td>\n",
       "      <td>...</td>\n",
       "      <td>...</td>\n",
       "      <td>...</td>\n",
       "    </tr>\n",
       "    <tr>\n",
       "      <th>249223</th>\n",
       "      <td>68.0</td>\n",
       "      <td>5.69</td>\n",
       "      <td>7.0</td>\n",
       "      <td>49</td>\n",
       "      <td>7.0</td>\n",
       "      <td>24</td>\n",
       "      <td>24</td>\n",
       "      <td>1201</td>\n",
       "      <td>0</td>\n",
       "      <td>1</td>\n",
       "      <td>...</td>\n",
       "      <td>1</td>\n",
       "      <td>0</td>\n",
       "      <td>1</td>\n",
       "      <td>0</td>\n",
       "      <td>24</td>\n",
       "      <td>0.0</td>\n",
       "      <td>0</td>\n",
       "      <td>0.000034</td>\n",
       "      <td>-0.000034</td>\n",
       "      <td>0.000730</td>\n",
       "    </tr>\n",
       "    <tr>\n",
       "      <th>249423</th>\n",
       "      <td>60.0</td>\n",
       "      <td>7.21</td>\n",
       "      <td>6.0</td>\n",
       "      <td>32</td>\n",
       "      <td>7.0</td>\n",
       "      <td>32</td>\n",
       "      <td>32</td>\n",
       "      <td>1180</td>\n",
       "      <td>0</td>\n",
       "      <td>0</td>\n",
       "      <td>...</td>\n",
       "      <td>1</td>\n",
       "      <td>0</td>\n",
       "      <td>1</td>\n",
       "      <td>0</td>\n",
       "      <td>24</td>\n",
       "      <td>0.0</td>\n",
       "      <td>0</td>\n",
       "      <td>0.000085</td>\n",
       "      <td>-0.000085</td>\n",
       "      <td>0.001795</td>\n",
       "    </tr>\n",
       "    <tr>\n",
       "      <th>249623</th>\n",
       "      <td>64.0</td>\n",
       "      <td>5.36</td>\n",
       "      <td>6.0</td>\n",
       "      <td>171</td>\n",
       "      <td>7.0</td>\n",
       "      <td>159</td>\n",
       "      <td>159</td>\n",
       "      <td>629</td>\n",
       "      <td>0</td>\n",
       "      <td>0</td>\n",
       "      <td>...</td>\n",
       "      <td>0</td>\n",
       "      <td>1</td>\n",
       "      <td>1</td>\n",
       "      <td>0</td>\n",
       "      <td>24</td>\n",
       "      <td>0.0</td>\n",
       "      <td>0</td>\n",
       "      <td>0.000179</td>\n",
       "      <td>-0.000179</td>\n",
       "      <td>0.003789</td>\n",
       "    </tr>\n",
       "    <tr>\n",
       "      <th>249823</th>\n",
       "      <td>64.0</td>\n",
       "      <td>4.19</td>\n",
       "      <td>7.0</td>\n",
       "      <td>41</td>\n",
       "      <td>7.0</td>\n",
       "      <td>19</td>\n",
       "      <td>19</td>\n",
       "      <td>1205</td>\n",
       "      <td>0</td>\n",
       "      <td>0</td>\n",
       "      <td>...</td>\n",
       "      <td>1</td>\n",
       "      <td>0</td>\n",
       "      <td>1</td>\n",
       "      <td>0</td>\n",
       "      <td>24</td>\n",
       "      <td>0.0</td>\n",
       "      <td>0</td>\n",
       "      <td>0.000031</td>\n",
       "      <td>-0.000031</td>\n",
       "      <td>0.000654</td>\n",
       "    </tr>\n",
       "    <tr>\n",
       "      <th>250023</th>\n",
       "      <td>68.0</td>\n",
       "      <td>6.00</td>\n",
       "      <td>6.0</td>\n",
       "      <td>39</td>\n",
       "      <td>8.0</td>\n",
       "      <td>6</td>\n",
       "      <td>18</td>\n",
       "      <td>623</td>\n",
       "      <td>1</td>\n",
       "      <td>0</td>\n",
       "      <td>...</td>\n",
       "      <td>0</td>\n",
       "      <td>1</td>\n",
       "      <td>1</td>\n",
       "      <td>0</td>\n",
       "      <td>24</td>\n",
       "      <td>0.0</td>\n",
       "      <td>0</td>\n",
       "      <td>0.000767</td>\n",
       "      <td>-0.000768</td>\n",
       "      <td>0.016130</td>\n",
       "    </tr>\n",
       "  </tbody>\n",
       "</table>\n",
       "<p>1251 rows × 43 columns</p>\n",
       "</div>"
      ],
      "text/plain": [
       "         age    psa  biopsy_gleason  survival_months  pathologic_gleason  \\\n",
       "23      73.0   6.36             6.0               59                 7.0   \n",
       "223     66.0  10.40             7.0              132                 7.0   \n",
       "423     62.0   8.05             4.0              211                 4.0   \n",
       "623     69.0  16.05             6.0              101                 6.0   \n",
       "823     66.0   7.22             7.0               46                 7.0   \n",
       "...      ...    ...             ...              ...                 ...   \n",
       "249223  68.0   5.69             7.0               49                 7.0   \n",
       "249423  60.0   7.21             6.0               32                 7.0   \n",
       "249623  64.0   5.36             6.0              171                 7.0   \n",
       "249823  64.0   4.19             7.0               41                 7.0   \n",
       "250023  68.0   6.00             6.0               39                 8.0   \n",
       "\n",
       "        survival_months_bcr  survival_months_mts  patient_id  \\\n",
       "23                       34                   39        1194   \n",
       "223                     132                  132         125   \n",
       "423                     207                  207        1554   \n",
       "623                      38                   38         267   \n",
       "823                      11                   11        1204   \n",
       "...                     ...                  ...         ...   \n",
       "249223                   24                   24        1201   \n",
       "249423                   32                   32        1180   \n",
       "249623                  159                  159         629   \n",
       "249823                   19                   19        1205   \n",
       "250023                    6                   18         623   \n",
       "\n",
       "       cancer_specific_mortality  clinical_stage_1  ...  TRYSgrupes_1  \\\n",
       "23                             0                 0  ...             1   \n",
       "223                            0                 0  ...             0   \n",
       "423                            0                 0  ...             0   \n",
       "623                            0                 0  ...             1   \n",
       "823                            0                 0  ...             1   \n",
       "...                          ...               ...  ...           ...   \n",
       "249223                         0                 1  ...             1   \n",
       "249423                         0                 0  ...             1   \n",
       "249623                         0                 0  ...             0   \n",
       "249823                         0                 0  ...             1   \n",
       "250023                         1                 0  ...             0   \n",
       "\n",
       "        TRYSgrupes_2  PLNDO1_0  PLNDO1_1  survival_time_discrete  \\\n",
       "23                 0         1         0                      24   \n",
       "223                1         0         1                      24   \n",
       "423                0         1         0                      24   \n",
       "623                0         0         1                      24   \n",
       "823                0         1         0                      24   \n",
       "...              ...       ...       ...                     ...   \n",
       "249223             0         1         0                      24   \n",
       "249423             0         1         0                      24   \n",
       "249623             1         1         0                      24   \n",
       "249823             0         1         0                      24   \n",
       "250023             1         1         0                      24   \n",
       "\n",
       "        cancer_specific_mortality_discrete  \\\n",
       "23                                     0.0   \n",
       "223                                    0.0   \n",
       "423                                    0.0   \n",
       "623                                    0.0   \n",
       "823                                    0.0   \n",
       "...                                    ...   \n",
       "249223                                 0.0   \n",
       "249423                                 0.0   \n",
       "249623                                 0.0   \n",
       "249823                                 0.0   \n",
       "250023                                 0.0   \n",
       "\n",
       "        cancer_specific_mortality_cumulative  mortality_instant_prob  \\\n",
       "23                                         0                0.000201   \n",
       "223                                        0                0.000131   \n",
       "423                                        0                0.000849   \n",
       "623                                        0                0.000032   \n",
       "823                                        0                0.000154   \n",
       "...                                      ...                     ...   \n",
       "249223                                     0                0.000034   \n",
       "249423                                     0                0.000085   \n",
       "249623                                     0                0.000179   \n",
       "249823                                     0                0.000031   \n",
       "250023                                     0                0.000767   \n",
       "\n",
       "        negative_log_prob  cumulative_hazard  \n",
       "23              -0.000201           0.004241  \n",
       "223             -0.000131           0.002775  \n",
       "423             -0.000849           0.017829  \n",
       "623             -0.000032           0.000668  \n",
       "823             -0.000154           0.003267  \n",
       "...                   ...                ...  \n",
       "249223          -0.000034           0.000730  \n",
       "249423          -0.000085           0.001795  \n",
       "249623          -0.000179           0.003789  \n",
       "249823          -0.000031           0.000654  \n",
       "250023          -0.000768           0.016130  \n",
       "\n",
       "[1251 rows x 43 columns]"
      ]
     },
     "execution_count": 74,
     "metadata": {},
     "output_type": "execute_result"
    }
   ],
   "source": [
    "sub_dat"
   ]
  },
  {
   "attachments": {},
   "cell_type": "markdown",
   "metadata": {},
   "source": [
    "We've selected a subset of exploded dataset, this subset now only has one record per patient -> for each patient, we have his information and his cumulative hazards"
   ]
  },
  {
   "cell_type": "code",
   "execution_count": 77,
   "metadata": {},
   "outputs": [
    {
     "name": "stdout",
     "output_type": "stream",
     "text": [
      "FPR: [0.00000000e+00 8.01282051e-04 2.40384615e-03 2.40384615e-03\n",
      " 1.28205128e-02 1.28205128e-02 4.24679487e-02 4.24679487e-02\n",
      " 1.00000000e+00]\n",
      "\n",
      "TPR: [0.         0.         0.         0.33333333 0.33333333 0.66666667\n",
      " 0.66666667 1.         1.        ]\n",
      "\n",
      "thresholds: [1.30201527e+00 3.02015272e-01 2.25318352e-01 1.94946260e-01\n",
      " 1.00522476e-01 9.44695323e-02 2.77850091e-02 2.73780256e-02\n",
      " 2.43064075e-05]\n",
      "\n",
      "AUC: 0.9807692307692308\n"
     ]
    }
   ],
   "source": [
    "# If in the sliced data there's a event, calculate AUC metric,\n",
    "# otherwise assign NaN value\n",
    "if sub_dat[target_column+'_cumulative'].max() == 1:\n",
    "    fpr, tpr, thresholds = roc_curve(sub_dat[target_column+'_cumulative'], sub_dat['cumulative_hazard'])\n",
    "    auc_stat = auc(fpr, tpr)\n",
    "else:\n",
    "    auc_stat = float('NaN')\n",
    "print(f'FPR: {fpr}\\n\\nTPR: {tpr}\\n\\nthresholds: {thresholds}\\n\\nAUC: {auc_stat}')"
   ]
  },
  {
   "attachments": {},
   "cell_type": "markdown",
   "metadata": {},
   "source": [
    "We have AUC of 0.98! While this may look good, remember we are only predicting first 24 months..  \n",
    "Looking into the subset of data that we've sliced, we only have 3 events which occurded up to 24th month:"
   ]
  },
  {
   "cell_type": "code",
   "execution_count": 78,
   "metadata": {},
   "outputs": [
    {
     "name": "stdout",
     "output_type": "stream",
     "text": [
      "(1251, 43)\n",
      "\n",
      " 0    1248\n",
      "1       3\n",
      "Name: cancer_specific_mortality_cumulative, dtype: int64\n",
      "\n",
      " 0    1209\n",
      "1      42\n",
      "Name: cancer_specific_mortality, dtype: int64\n",
      "\n",
      " 0.0    1188\n",
      "Name: cancer_specific_mortality_discrete, dtype: int64\n"
     ]
    }
   ],
   "source": [
    "print(sub_dat.shape)\n",
    "print('\\n',sub_dat.cancer_specific_mortality_cumulative.value_counts())\n",
    "print('\\n',sub_dat.cancer_specific_mortality.value_counts())\n",
    "print('\\n',sub_dat.cancer_specific_mortality_discrete.value_counts())"
   ]
  },
  {
   "cell_type": "code",
   "execution_count": 82,
   "metadata": {},
   "outputs": [
    {
     "data": {
      "image/png": "[encoded data removed]",
      "text/plain": [
       "<Figure size 640x480 with 1 Axes>"
      ]
     },
     "metadata": {},
     "output_type": "display_data"
    }
   ],
   "source": [
    "# Compute ROC curve and ROC area for each class\n",
    "plt.figure()\n",
    "lw = 2\n",
    "plt.plot(\n",
    "    fpr,\n",
    "    tpr,\n",
    "    color=\"darkorange\",\n",
    "    lw=lw,\n",
    "    label=\"ROC curve (area = %0.2f)\" % auc_stat,\n",
    ")\n",
    "plt.plot([0, 1], [0, 1], color=\"navy\", lw=lw, linestyle=\"--\")\n",
    "plt.xlim([0.0, 1.0])\n",
    "plt.ylim([0.0, 1.05])\n",
    "plt.xlabel(\"False Positive Rate\")\n",
    "plt.ylabel(\"True Positive Rate\")\n",
    "plt.title(\"Receiver operating characteristic\")\n",
    "plt.legend(loc=\"lower right\")\n",
    "plt.show()"
   ]
  },
  {
   "attachments": {},
   "cell_type": "markdown",
   "metadata": {},
   "source": [
    "We can use the thresholds from the ROC calculation and see how can we predict the mortality..  \n",
    "We use the first threshold:"
   ]
  },
  {
   "cell_type": "code",
   "execution_count": 90,
   "metadata": {},
   "outputs": [],
   "source": [
    "sub_X_test = sub_dat.drop(['survival_months', 'patient_id', 'cancer_specific_mortality',\n",
    "                          'patient_id', 'cancer_specific_mortality_discrete',\n",
    "                          'survival_months_bcr', 'survival_months_mts',\n",
    "                           'cancer_specific_mortality_cumulative',\n",
    "                           'mortality_instant_prob', 'negative_log_prob', 'cumulative_hazard'], axis=1)\n",
    "\n",
    "temp_y_pred = (model.predict_proba(sub_X_test)[:,1] >= thresholds[0] ).astype(int)"
   ]
  },
  {
   "cell_type": "code",
   "execution_count": 91,
   "metadata": {},
   "outputs": [
    {
     "data": {
      "text/plain": [
       "0    1251\n",
       "dtype: int64"
      ]
     },
     "execution_count": 91,
     "metadata": {},
     "output_type": "execute_result"
    }
   ],
   "source": [
    "pd.Series(temp_y_pred).value_counts()"
   ]
  },
  {
   "attachments": {},
   "cell_type": "markdown",
   "metadata": {},
   "source": [
    "Not good, we predicted all cases as non-event (we havent predicted any cancer related mortality)"
   ]
  },
  {
   "cell_type": "code",
   "execution_count": 93,
   "metadata": {},
   "outputs": [
    {
     "name": "stdout",
     "output_type": "stream",
     "text": [
      "[[1248    0]\n",
      " [   3    0]] \n",
      "\n",
      "              precision    recall  f1-score   support\n",
      "\n",
      "           0       1.00      1.00      1.00      1248\n",
      "           1       0.00      0.00      0.00         3\n",
      "\n",
      "    accuracy                           1.00      1251\n",
      "   macro avg       0.50      0.50      0.50      1251\n",
      "weighted avg       1.00      1.00      1.00      1251\n",
      " \n",
      "\n",
      "0.9807692307692308\n"
     ]
    }
   ],
   "source": [
    "print(confusion_matrix(sub_dat.cancer_specific_mortality_cumulative, temp_y_pred), '\\n')\n",
    "print(classification_report(sub_dat.cancer_specific_mortality_cumulative, temp_y_pred, zero_division=0), '\\n')\n",
    "print(auc_stat)"
   ]
  },
  {
   "attachments": {},
   "cell_type": "markdown",
   "metadata": {},
   "source": [
    "We can also try another threshold:"
   ]
  },
  {
   "cell_type": "code",
   "execution_count": 132,
   "metadata": {},
   "outputs": [
    {
     "name": "stdout",
     "output_type": "stream",
     "text": [
      "threshold: >= 0.00120000\n",
      "\n",
      "0    1189\n",
      "1      62\n",
      "dtype: int64 \n",
      "\n",
      "\n",
      "[[1189   59]\n",
      " [   0    3]] \n",
      "\n",
      "              precision    recall  f1-score   support\n",
      "\n",
      "           0       1.00      0.95      0.98      1248\n",
      "           1       0.05      1.00      0.09         3\n",
      "\n",
      "    accuracy                           0.95      1251\n",
      "   macro avg       0.52      0.98      0.53      1251\n",
      "weighted avg       1.00      0.95      0.97      1251\n",
      " \n",
      "\n",
      "0.9807692307692308\n"
     ]
    }
   ],
   "source": [
    "sub_X_test = sub_dat.drop(['survival_months', 'patient_id', 'cancer_specific_mortality',\n",
    "                          'patient_id', 'cancer_specific_mortality_discrete',\n",
    "                          'survival_months_bcr', 'survival_months_mts',\n",
    "                           'cancer_specific_mortality_cumulative',\n",
    "                           'mortality_instant_prob', 'negative_log_prob', 'cumulative_hazard'], axis=1)\n",
    "\n",
    "temp_threshold = 0.0012\n",
    "\n",
    "temp_y_pred = (model.predict_proba(sub_X_test)[:,1] >= temp_threshold ).astype(int)\n",
    "\n",
    "print(f'threshold: >= {temp_threshold:.8f}\\n')\n",
    "\n",
    "print(pd.Series(temp_y_pred).value_counts(), '\\n\\n')\n",
    "\n",
    "print(confusion_matrix(sub_dat.cancer_specific_mortality_cumulative, temp_y_pred), '\\n')\n",
    "print(classification_report(sub_dat.cancer_specific_mortality_cumulative, temp_y_pred, zero_division=0), '\\n')\n",
    "print(auc_stat)"
   ]
  },
  {
   "attachments": {},
   "cell_type": "markdown",
   "metadata": {},
   "source": [
    "Now we see we predicted 62 cancer related mortalities, out of those 62, 3 cancer mortalities were predicted correctly but we also  \n",
    "said 59 patient experienced mortality while in reality they have not (at least up to our selected month).\n",
    "Our model has 95% accuracy (this is misleading as we have imbalanced dataset). Precision of event class is only 5% but the recall is 100%, for non-event class, the precision is 100% and recall is 95%"
   ]
  },
  {
   "attachments": {},
   "cell_type": "markdown",
   "metadata": {},
   "source": [
    "#### AUC for multiple slices  \n",
    "Now that we know how to calculate AUC for a single slice, we can calculate for more slices."
   ]
  },
  {
   "cell_type": "code",
   "execution_count": 135,
   "metadata": {},
   "outputs": [
    {
     "name": "stdout",
     "output_type": "stream",
     "text": [
      "    month  train_auc\n",
      "0       6        NaN\n",
      "1      12        NaN\n",
      "2      18   0.986400\n",
      "3      24   0.980769\n",
      "4      30   0.956627\n",
      "5      36   0.963482\n",
      "6      42   0.970894\n",
      "7      48   0.972536\n",
      "8      54   0.972536\n",
      "9      60   0.969050\n",
      "10     66   0.953998\n",
      "11     72   0.906664\n",
      "12     78   0.903210\n",
      "13     84   0.907127\n",
      "14     90   0.910736\n",
      "15     96   0.912749\n",
      "16    102   0.912667\n",
      "17    108   0.900582\n",
      "18    114   0.887694\n",
      "19    120   0.888651\n",
      "20    126   0.891815\n",
      "21    132   0.894430\n",
      "22    138   0.888879\n",
      "23    144   0.888879\n",
      "24    150   0.891089\n",
      "25    156   0.891089\n",
      "26    162   0.891089\n",
      "27    168   0.891089\n",
      "28    174   0.891089\n",
      "29    180   0.891089\n",
      "30    186   0.891089\n",
      "31    192   0.891089\n",
      "32    198   0.888712\n",
      "33    204        NaN\n"
     ]
    }
   ],
   "source": [
    "# AUC for each cumulative slice\n",
    "# Months at which we'll check the AUC's\n",
    "months = list(range(6, 200 + 6, 6))\n",
    "\n",
    "train_auc_stats = []\n",
    "for month in months:\n",
    "    # --- Training data ---\n",
    "    # Selecting a subset of data based on the months\n",
    "    select = (data_copy['survival_time_discrete'] == month) & pd.notna(data_copy[target_column+'_cumulative'])\n",
    "    sub_dat = data_copy[select]\n",
    "\n",
    "    # If in the sliced data there's a event, calculate AUC metric,\n",
    "    # otherwise assign NaN value\n",
    "    if sub_dat[target_column+'_cumulative'].max() == 1:\n",
    "        fpr, tpr, thresholds = roc_curve(sub_dat[target_column+'_cumulative'], sub_dat['cumulative_hazard'])\n",
    "        auc_stat = auc(fpr, tpr)\n",
    "    else:\n",
    "        auc_stat = float('NaN')\n",
    "    train_auc_stats.append(auc_stat)\n",
    "\n",
    "auc_stats = pd.DataFrame(zip(months, train_auc_stats),\n",
    "                        columns=['month', 'train_auc'])\n",
    "\n",
    "print(auc_stats)"
   ]
  },
  {
   "attachments": {},
   "cell_type": "markdown",
   "metadata": {},
   "source": [
    "We see that for the first 2 slices (6 and 12 months) we don't have events, so we also don't compute AUC values.  \n",
    "We also see a trend, the longer the period we predict, the worse AUC gets. Predicting a mortality up to 198th month  \n",
    "gives us AUC value of 0.88."
   ]
  }
 ],
 "metadata": {
  "kernelspec": {
   "display_name": ".venv",
   "language": "python",
   "name": "python3"
  },
  "language_info": {
   "codemirror_mode": {
    "name": "ipython",
    "version": 3
   },
   "file_extension": ".py",
   "mimetype": "text/x-python",
   "name": "python",
   "nbconvert_exporter": "python",
   "pygments_lexer": "ipython3",
   "version": "3.10.4"
  },
  "orig_nbformat": 4,
  "vscode": {
   "interpreter": {
    "hash": "4313b30ba1dc00c95c03b070820057b6c164c878ae3e5e81f7647b57ebcaab7e"
   }
  }
 },
 "nbformat": 4,
 "nbformat_minor": 2
}
