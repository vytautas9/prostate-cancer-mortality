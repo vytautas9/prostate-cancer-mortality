{
 "cells": [
  {
   "cell_type": "code",
   "execution_count": 8,
   "metadata": {},
   "outputs": [],
   "source": [
    "from pickle import load\n",
    "from tableone import TableOne # for the descriptive table\n",
    "import os"
   ]
  },
  {
   "cell_type": "code",
   "execution_count": 2,
   "metadata": {},
   "outputs": [],
   "source": [
    "# Read already prepared and saved data\n",
    "with open('data/data_clean.pkl', 'rb') as f:\n",
    "    data = load(f)"
   ]
  },
  {
   "cell_type": "code",
   "execution_count": 3,
   "metadata": {},
   "outputs": [
    {
     "name": "stdout",
     "output_type": "stream",
     "text": [
      "Original data shape:  (1564, 22)\n",
      "\n",
      "Sample data:\n",
      "     age    psa clinical_stage  BxGleason biopsy_gleason_gg  \\\n",
      "0  72.0  12.70              2        7.0                 2   \n",
      "1  66.0   7.59              3        9.0                 5   \n",
      "2  65.0   7.60              3        7.0                 2   \n",
      "3  70.0  14.18              3        7.0                 3   \n",
      "4  57.0   7.86              2        7.0                 3   \n",
      "\n",
      "  pathological_gleason_gg pathologic_stage  lni surgical_margin_status  \\\n",
      "0                       2                2  1.0                      1   \n",
      "1                       5                1  1.0                      1   \n",
      "2                       2                2  1.0                      0   \n",
      "3                       3                2  1.0                      1   \n",
      "4                       4                1  1.0                      0   \n",
      "\n",
      "  persistent_psa  ... survival_months overall_mortality  \\\n",
      "0              0  ...             138                 0   \n",
      "1              0  ...              75                 1   \n",
      "2              1  ...              52                 1   \n",
      "3              1  ...              65                 0   \n",
      "4              0  ...              31                 0   \n",
      "\n",
      "   cancer_specific_mortality Rpgleson TRYSgrupes  PLNDO1 survival_months_bcr  \\\n",
      "0                          0      7.0          2       1                 107   \n",
      "1                          1      9.0          2       1                  11   \n",
      "2                          0      7.0          2       1                   5   \n",
      "3                          0      7.0          2       1                   2   \n",
      "4                          0      8.0          2       1                  23   \n",
      "\n",
      "  survival_months_mts  death_from_other_causes  patient_id  \n",
      "0                 108                        0           1  \n",
      "1                  43                        0           2  \n",
      "2                  52                        1           3  \n",
      "3                  29                        0           4  \n",
      "4                  31                        0           5  \n",
      "\n",
      "[5 rows x 22 columns] \n",
      "\n"
     ]
    }
   ],
   "source": [
    "# Explore the original data\n",
    "print('Original data shape: ', data.shape)\n",
    "print('\\nSample data:\\n', data.head(), '\\n')"
   ]
  },
  {
   "cell_type": "code",
   "execution_count": 4,
   "metadata": {},
   "outputs": [
    {
     "name": "stdout",
     "output_type": "stream",
     "text": [
      "\n",
      "Describing data:\n",
      "                age          psa    BxGleason  survival_months     Rpgleson  \\\n",
      "count  1564.000000  1564.000000  1564.000000      1564.000000  1564.000000   \n",
      "mean     63.150256     8.542887     6.514706       108.690537     6.898977   \n",
      "std       6.503490     7.252175     0.736865        54.528575     0.777992   \n",
      "min      40.000000     0.440000     3.000000         1.000000     4.000000   \n",
      "25%      59.000000     4.800000     6.000000        65.000000     6.000000   \n",
      "50%      64.000000     6.440000     6.000000       104.000000     7.000000   \n",
      "75%      68.000000     9.692500     7.000000       159.000000     7.000000   \n",
      "max      87.000000    98.400000    10.000000       225.000000    10.000000   \n",
      "\n",
      "       survival_months_bcr  survival_months_mts   patient_id  \n",
      "count          1564.000000          1564.000000  1564.000000  \n",
      "mean             57.438619            74.636189   782.500000  \n",
      "std              52.240432            53.828630   451.632225  \n",
      "min               1.000000             1.000000     1.000000  \n",
      "25%              14.000000            26.750000   391.750000  \n",
      "50%              41.500000            62.000000   782.500000  \n",
      "75%              85.000000           119.250000  1173.250000  \n",
      "max             219.000000           219.000000  1564.000000   \n",
      "\n"
     ]
    }
   ],
   "source": [
    "print('\\nDescribing data:\\n', data.describe(), '\\n')"
   ]
  },
  {
   "cell_type": "code",
   "execution_count": 5,
   "metadata": {},
   "outputs": [],
   "source": [
    "# Descriptive statistics\n",
    "min_max = ['age']\n",
    "nonnormal = ['age', 'psa', 'BxGleason', 'Rpgleson', 'survival_months', \n",
    "             'survival_months_bcr', 'survival_months_mts']\n",
    "categorical = ['clinical_stage', 'lni', 'biopsy_gleason_gg', 'pathological_gleason_gg',\n",
    "              'pathologic_stage', 'surgical_margin_status', 'persistent_psa', 'TRYSgrupes',\n",
    "              'PLNDO1']"
   ]
  },
  {
   "cell_type": "code",
   "execution_count": 9,
   "metadata": {},
   "outputs": [],
   "source": [
    "if not os.path.exists('eda'):\n",
    "   os.makedirs('eda')"
   ]
  },
  {
   "cell_type": "code",
   "execution_count": 10,
   "metadata": {},
   "outputs": [
    {
     "name": "stdout",
     "output_type": "stream",
     "text": [
      "|                                     |         | Overall            | 0                  | 1                 |\n",
      "|-------------------------------------|---------|--------------------|--------------------|-------------------|\n",
      "| n                                   |         | 1564               | 1300               | 264               |\n",
      "| Age (years), median [min,max]       |         | 64.0 [40.0,87.0]   | 63.0 [40.0,87.0]   | 68.0 [53.0,78.0]  |\n",
      "| psa, median [Q1,Q3]                 |         | 6.4 [4.8,9.7]      | 6.3 [4.7,9.3]      | 7.2 [5.2,10.5]    |\n",
      "| clinical_stage, n (%)               | 1       | 434 (27.7)         | 376 (28.9)         | 58 (22.0)         |\n",
      "|                                     | 2       | 911 (58.2)         | 754 (58.0)         | 157 (59.5)        |\n",
      "|                                     | 3       | 219 (14.0)         | 170 (13.1)         | 49 (18.6)         |\n",
      "| BxGleason, median [Q1,Q3]           |         | 6.0 [6.0,7.0]      | 6.0 [6.0,7.0]      | 6.0 [6.0,7.0]     |\n",
      "| biopsy_gleason_gg, n (%)            | 1       | 894 (57.2)         | 724 (55.7)         | 170 (64.4)        |\n",
      "|                                     | 2       | 479 (30.6)         | 418 (32.2)         | 61 (23.1)         |\n",
      "|                                     | 3       | 75 (4.8)           | 67 (5.2)           | 8 (3.0)           |\n",
      "|                                     | 4       | 79 (5.1)           | 67 (5.2)           | 12 (4.5)          |\n",
      "|                                     | 5       | 37 (2.4)           | 24 (1.8)           | 13 (4.9)          |\n",
      "| pathological_gleason_gg, n (%)      | 1       | 429 (27.4)         | 349 (26.8)         | 80 (30.3)         |\n",
      "|                                     | 2       | 788 (50.4)         | 675 (51.9)         | 113 (42.8)        |\n",
      "|                                     | 3       | 165 (10.5)         | 142 (10.9)         | 23 (8.7)          |\n",
      "|                                     | 4       | 84 (5.4)           | 66 (5.1)           | 18 (6.8)          |\n",
      "|                                     | 5       | 98 (6.3)           | 68 (5.2)           | 30 (11.4)         |\n",
      "| pathologic_stage, n (%)             | 0       | 999 (63.9)         | 848 (65.2)         | 151 (57.2)        |\n",
      "|                                     | 1       | 427 (27.3)         | 358 (27.5)         | 69 (26.1)         |\n",
      "|                                     | 2       | 138 (8.8)          | 94 (7.2)           | 44 (16.7)         |\n",
      "| lni, n (%)                          | 0.0     | 535 (34.2)         | 431 (33.2)         | 104 (39.4)        |\n",
      "|                                     | 1.0     | 67 (4.3)           | 49 (3.8)           | 18 (6.8)          |\n",
      "|                                     | unknown | 962 (61.5)         | 820 (63.1)         | 142 (53.8)        |\n",
      "| surgical_margin_status, n (%)       | 0       | 1052 (67.3)        | 892 (68.6)         | 160 (60.6)        |\n",
      "|                                     | 1       | 512 (32.7)         | 408 (31.4)         | 104 (39.4)        |\n",
      "| persistent_psa, n (%)               | 0       | 1285 (82.2)        | 1099 (84.5)        | 186 (70.5)        |\n",
      "|                                     | 1       | 279 (17.8)         | 201 (15.5)         | 78 (29.5)         |\n",
      "| survival_months, median [Q1,Q3]     |         | 104.0 [65.0,159.0] | 112.0 [66.0,163.2] | 88.5 [58.0,123.0] |\n",
      "| Rpgleson, median [Q1,Q3]            |         | 7.0 [6.0,7.0]      | 7.0 [6.0,7.0]      | 7.0 [6.0,7.0]     |\n",
      "| TRYSgrupes, n (%)                   | 0       | 337 (21.5)         | 283 (21.8)         | 54 (20.5)         |\n",
      "|                                     | 1       | 926 (59.2)         | 790 (60.8)         | 136 (51.5)        |\n",
      "|                                     | 2       | 301 (19.2)         | 227 (17.5)         | 74 (28.0)         |\n",
      "| PLNDO1, n (%)                       | 0       | 962 (61.5)         | 820 (63.1)         | 142 (53.8)        |\n",
      "|                                     | 1       | 602 (38.5)         | 480 (36.9)         | 122 (46.2)        |\n",
      "| survival_months_bcr, median [Q1,Q3] |         | 41.5 [14.0,85.0]   | 45.0 [18.0,93.2]   | 24.0 [6.0,61.0]   |\n",
      "| survival_months_mts, median [Q1,Q3] |         | 62.0 [26.8,119.2]  | 66.0 [30.0,126.2]  | 48.5 [18.0,84.0]  | \n",
      "\n"
     ]
    }
   ],
   "source": [
    "# Overall mortality\n",
    "columns = data.columns.tolist()\n",
    "columns_to_remove = ['patient_id', 'bcr', 'mts', 'cancer_specific_mortality', 'death_from_other_causes']\n",
    "columns = [column for column in columns if column not in columns_to_remove]\n",
    "groupby = 'overall_mortality'\n",
    "\n",
    "mytable = TableOne(data, columns=columns, groupby=groupby, nonnormal=nonnormal, \n",
    "                   min_max=min_max, missing=False, rename={'age': 'Age (years)'}, \n",
    "                   sort=False, categorical=categorical)\n",
    "print(mytable.tabulate(tablefmt=\"github\"), '\\n')\n",
    "mytable.to_excel('eda/'+groupby+'.xlsx')\n"
   ]
  },
  {
   "cell_type": "code",
   "execution_count": 11,
   "metadata": {},
   "outputs": [
    {
     "name": "stdout",
     "output_type": "stream",
     "text": [
      "|                                     |         | Overall            | 0                  | 1                 |\n",
      "|-------------------------------------|---------|--------------------|--------------------|-------------------|\n",
      "| n                                   |         | 1564               | 1514               | 50                |\n",
      "| Age (years), median [min,max]       |         | 64.0 [40.0,87.0]   | 64.0 [40.0,87.0]   | 68.0 [54.0,73.0]  |\n",
      "| psa, median [Q1,Q3]                 |         | 6.4 [4.8,9.7]      | 6.4 [4.8,9.7]      | 7.9 [5.3,11.2]    |\n",
      "| clinical_stage, n (%)               | 1       | 434 (27.7)         | 430 (28.4)         | 4 (8.0)           |\n",
      "|                                     | 2       | 911 (58.2)         | 882 (58.3)         | 29 (58.0)         |\n",
      "|                                     | 3       | 219 (14.0)         | 202 (13.3)         | 17 (34.0)         |\n",
      "| BxGleason, median [Q1,Q3]           |         | 6.0 [6.0,7.0]      | 6.0 [6.0,7.0]      | 7.0 [6.0,8.0]     |\n",
      "| biopsy_gleason_gg, n (%)            | 1       | 894 (57.2)         | 876 (57.9)         | 18 (36.0)         |\n",
      "|                                     | 2       | 479 (30.6)         | 466 (30.8)         | 13 (26.0)         |\n",
      "|                                     | 3       | 75 (4.8)           | 71 (4.7)           | 4 (8.0)           |\n",
      "|                                     | 4       | 79 (5.1)           | 71 (4.7)           | 8 (16.0)          |\n",
      "|                                     | 5       | 37 (2.4)           | 30 (2.0)           | 7 (14.0)          |\n",
      "| pathological_gleason_gg, n (%)      | 1       | 429 (27.4)         | 425 (28.1)         | 4 (8.0)           |\n",
      "|                                     | 2       | 788 (50.4)         | 775 (51.2)         | 13 (26.0)         |\n",
      "|                                     | 3       | 165 (10.5)         | 159 (10.5)         | 6 (12.0)          |\n",
      "|                                     | 4       | 84 (5.4)           | 77 (5.1)           | 7 (14.0)          |\n",
      "|                                     | 5       | 98 (6.3)           | 78 (5.2)           | 20 (40.0)         |\n",
      "| pathologic_stage, n (%)             | 0       | 999 (63.9)         | 986 (65.1)         | 13 (26.0)         |\n",
      "|                                     | 1       | 427 (27.3)         | 414 (27.3)         | 13 (26.0)         |\n",
      "|                                     | 2       | 138 (8.8)          | 114 (7.5)          | 24 (48.0)         |\n",
      "| lni, n (%)                          | 0.0     | 535 (34.2)         | 514 (33.9)         | 21 (42.0)         |\n",
      "|                                     | 1.0     | 67 (4.3)           | 53 (3.5)           | 14 (28.0)         |\n",
      "|                                     | unknown | 962 (61.5)         | 947 (62.5)         | 15 (30.0)         |\n",
      "| surgical_margin_status, n (%)       | 0       | 1052 (67.3)        | 1035 (68.4)        | 17 (34.0)         |\n",
      "|                                     | 1       | 512 (32.7)         | 479 (31.6)         | 33 (66.0)         |\n",
      "| persistent_psa, n (%)               | 0       | 1285 (82.2)        | 1269 (83.8)        | 16 (32.0)         |\n",
      "|                                     | 1       | 279 (17.8)         | 245 (16.2)         | 34 (68.0)         |\n",
      "| survival_months, median [Q1,Q3]     |         | 104.0 [65.0,159.0] | 105.5 [65.0,160.0] | 76.5 [45.5,107.8] |\n",
      "| Rpgleson, median [Q1,Q3]            |         | 7.0 [6.0,7.0]      | 7.0 [6.0,7.0]      | 8.0 [7.0,9.0]     |\n",
      "| TRYSgrupes, n (%)                   | 0       | 337 (21.5)         | 334 (22.1)         | 3 (6.0)           |\n",
      "|                                     | 1       | 926 (59.2)         | 912 (60.2)         | 14 (28.0)         |\n",
      "|                                     | 2       | 301 (19.2)         | 268 (17.7)         | 33 (66.0)         |\n",
      "| PLNDO1, n (%)                       | 0       | 962 (61.5)         | 947 (62.5)         | 15 (30.0)         |\n",
      "|                                     | 1       | 602 (38.5)         | 567 (37.5)         | 35 (70.0)         |\n",
      "| survival_months_bcr, median [Q1,Q3] |         | 41.5 [14.0,85.0]   | 42.0 [16.0,88.0]   | 3.0 [1.0,15.0]    |\n",
      "| survival_months_mts, median [Q1,Q3] |         | 62.0 [26.8,119.2]  | 63.0 [27.2,120.0]  | 42.0 [18.0,81.0]  | \n",
      "\n"
     ]
    }
   ],
   "source": [
    "# Cancer Specific Mortality\n",
    "columns = data.columns.tolist()\n",
    "columns_to_remove = ['patient_id', 'bcr', 'mts', 'overall_mortality', 'death_from_other_causes']\n",
    "columns = [column for column in columns if column not in columns_to_remove]\n",
    "groupby = 'cancer_specific_mortality'\n",
    "\n",
    "mytable = TableOne(data, columns=columns, groupby=groupby, nonnormal=nonnormal, \n",
    "                   min_max=min_max, missing=False, rename={'age': 'Age (years)'}, \n",
    "                   sort=False, categorical=categorical)\n",
    "print(mytable.tabulate(tablefmt=\"github\"), '\\n')\n",
    "mytable.to_excel('eda/'+groupby+'.xlsx')\n"
   ]
  },
  {
   "cell_type": "code",
   "execution_count": 12,
   "metadata": {},
   "outputs": [
    {
     "name": "stdout",
     "output_type": "stream",
     "text": [
      "|                                     |         | Overall            | 0                  | 1                 |\n",
      "|-------------------------------------|---------|--------------------|--------------------|-------------------|\n",
      "| n                                   |         | 1564               | 1350               | 214               |\n",
      "| Age (years), median [min,max]       |         | 64.0 [40.0,87.0]   | 63.0 [40.0,87.0]   | 68.0 [53.0,78.0]  |\n",
      "| psa, median [Q1,Q3]                 |         | 6.4 [4.8,9.7]      | 6.3 [4.8,9.5]      | 7.2 [5.2,10.5]    |\n",
      "| clinical_stage, n (%)               | 1       | 434 (27.7)         | 380 (28.1)         | 54 (25.2)         |\n",
      "|                                     | 2       | 911 (58.2)         | 783 (58.0)         | 128 (59.8)        |\n",
      "|                                     | 3       | 219 (14.0)         | 187 (13.9)         | 32 (15.0)         |\n",
      "| BxGleason, median [Q1,Q3]           |         | 6.0 [6.0,7.0]      | 6.0 [6.0,7.0]      | 6.0 [6.0,7.0]     |\n",
      "| biopsy_gleason_gg, n (%)            | 1       | 894 (57.2)         | 742 (55.0)         | 152 (71.0)        |\n",
      "|                                     | 2       | 479 (30.6)         | 431 (31.9)         | 48 (22.4)         |\n",
      "|                                     | 3       | 75 (4.8)           | 71 (5.3)           | 4 (1.9)           |\n",
      "|                                     | 4       | 79 (5.1)           | 75 (5.6)           | 4 (1.9)           |\n",
      "|                                     | 5       | 37 (2.4)           | 31 (2.3)           | 6 (2.8)           |\n",
      "| pathological_gleason_gg, n (%)      | 1       | 429 (27.4)         | 353 (26.1)         | 76 (35.5)         |\n",
      "|                                     | 2       | 788 (50.4)         | 688 (51.0)         | 100 (46.7)        |\n",
      "|                                     | 3       | 165 (10.5)         | 148 (11.0)         | 17 (7.9)          |\n",
      "|                                     | 4       | 84 (5.4)           | 73 (5.4)           | 11 (5.1)          |\n",
      "|                                     | 5       | 98 (6.3)           | 88 (6.5)           | 10 (4.7)          |\n",
      "| pathologic_stage, n (%)             | 0       | 999 (63.9)         | 861 (63.8)         | 138 (64.5)        |\n",
      "|                                     | 1       | 427 (27.3)         | 371 (27.5)         | 56 (26.2)         |\n",
      "|                                     | 2       | 138 (8.8)          | 118 (8.7)          | 20 (9.3)          |\n",
      "| lni, n (%)                          | 0.0     | 535 (34.2)         | 452 (33.5)         | 83 (38.8)         |\n",
      "|                                     | 1.0     | 67 (4.3)           | 63 (4.7)           | 4 (1.9)           |\n",
      "|                                     | unknown | 962 (61.5)         | 835 (61.9)         | 127 (59.3)        |\n",
      "| surgical_margin_status, n (%)       | 0       | 1052 (67.3)        | 909 (67.3)         | 143 (66.8)        |\n",
      "|                                     | 1       | 512 (32.7)         | 441 (32.7)         | 71 (33.2)         |\n",
      "| persistent_psa, n (%)               | 0       | 1285 (82.2)        | 1115 (82.6)        | 170 (79.4)        |\n",
      "|                                     | 1       | 279 (17.8)         | 235 (17.4)         | 44 (20.6)         |\n",
      "| survival_months, median [Q1,Q3]     |         | 104.0 [65.0,159.0] | 108.0 [65.2,162.8] | 93.0 [61.0,127.2] |\n",
      "| Rpgleson, median [Q1,Q3]            |         | 7.0 [6.0,7.0]      | 7.0 [6.0,7.0]      | 7.0 [6.0,7.0]     |\n",
      "| TRYSgrupes, n (%)                   | 0       | 337 (21.5)         | 286 (21.2)         | 51 (23.8)         |\n",
      "|                                     | 1       | 926 (59.2)         | 804 (59.6)         | 122 (57.0)        |\n",
      "|                                     | 2       | 301 (19.2)         | 260 (19.3)         | 41 (19.2)         |\n",
      "| PLNDO1, n (%)                       | 0       | 962 (61.5)         | 835 (61.9)         | 127 (59.3)        |\n",
      "|                                     | 1       | 602 (38.5)         | 515 (38.1)         | 87 (40.7)         |\n",
      "| survival_months_bcr, median [Q1,Q3] |         | 41.5 [14.0,85.0]   | 42.0 [15.0,90.0]   | 36.0 [12.0,70.8]  |\n",
      "| survival_months_mts, median [Q1,Q3] |         | 62.0 [26.8,119.2]  | 64.0 [29.0,124.0]  | 50.5 [18.5,84.0]  | \n",
      "\n"
     ]
    }
   ],
   "source": [
    "# Death from other causes\n",
    "columns = data.columns.tolist()\n",
    "columns_to_remove = ['patient_id', 'bcr', 'mts', 'cancer_specific_mortality', 'overall_mortality']\n",
    "columns = [column for column in columns if column not in columns_to_remove]\n",
    "groupby = 'death_from_other_causes'\n",
    "\n",
    "mytable = TableOne(data, columns=columns, groupby=groupby, nonnormal=nonnormal, \n",
    "                   min_max=min_max, missing=False, rename={'age': 'Age (years)'}, \n",
    "                   sort=False, categorical=categorical)\n",
    "print(mytable.tabulate(tablefmt=\"github\"), '\\n')\n",
    "mytable.to_excel('eda/'+groupby+'.xlsx')\n"
   ]
  },
  {
   "cell_type": "code",
   "execution_count": 13,
   "metadata": {},
   "outputs": [
    {
     "name": "stdout",
     "output_type": "stream",
     "text": [
      "|                                     |         | Overall            | 0                  | 1                  |\n",
      "|-------------------------------------|---------|--------------------|--------------------|--------------------|\n",
      "| n                                   |         | 1564               | 1104               | 460                |\n",
      "| Age (years), median [min,max]       |         | 64.0 [40.0,87.0]   | 64.0 [40.0,87.0]   | 64.0 [44.0,78.0]   |\n",
      "| psa, median [Q1,Q3]                 |         | 6.4 [4.8,9.7]      | 6.0 [4.6,8.5]      | 8.6 [5.5,13.1]     |\n",
      "| clinical_stage, n (%)               | 1       | 434 (27.7)         | 345 (31.2)         | 89 (19.3)          |\n",
      "|                                     | 2       | 911 (58.2)         | 656 (59.4)         | 255 (55.4)         |\n",
      "|                                     | 3       | 219 (14.0)         | 103 (9.3)          | 116 (25.2)         |\n",
      "| BxGleason, median [Q1,Q3]           |         | 6.0 [6.0,7.0]      | 6.0 [6.0,7.0]      | 7.0 [6.0,7.0]      |\n",
      "| biopsy_gleason_gg, n (%)            | 1       | 894 (57.2)         | 709 (64.2)         | 185 (40.2)         |\n",
      "|                                     | 2       | 479 (30.6)         | 318 (28.8)         | 161 (35.0)         |\n",
      "|                                     | 3       | 75 (4.8)           | 34 (3.1)           | 41 (8.9)           |\n",
      "|                                     | 4       | 79 (5.1)           | 35 (3.2)           | 44 (9.6)           |\n",
      "|                                     | 5       | 37 (2.4)           | 8 (0.7)            | 29 (6.3)           |\n",
      "| pathological_gleason_gg, n (%)      | 1       | 429 (27.4)         | 370 (33.5)         | 59 (12.8)          |\n",
      "|                                     | 2       | 788 (50.4)         | 591 (53.5)         | 197 (42.8)         |\n",
      "|                                     | 3       | 165 (10.5)         | 88 (8.0)           | 77 (16.7)          |\n",
      "|                                     | 4       | 84 (5.4)           | 38 (3.4)           | 46 (10.0)          |\n",
      "|                                     | 5       | 98 (6.3)           | 17 (1.5)           | 81 (17.6)          |\n",
      "| pathologic_stage, n (%)             | 0       | 999 (63.9)         | 824 (74.6)         | 175 (38.0)         |\n",
      "|                                     | 1       | 427 (27.3)         | 254 (23.0)         | 173 (37.6)         |\n",
      "|                                     | 2       | 138 (8.8)          | 26 (2.4)           | 112 (24.3)         |\n",
      "| lni, n (%)                          | 0.0     | 535 (34.2)         | 337 (30.5)         | 198 (43.0)         |\n",
      "|                                     | 1.0     | 67 (4.3)           | 5 (0.5)            | 62 (13.5)          |\n",
      "|                                     | unknown | 962 (61.5)         | 762 (69.0)         | 200 (43.5)         |\n",
      "| surgical_margin_status, n (%)       | 0       | 1052 (67.3)        | 834 (75.5)         | 218 (47.4)         |\n",
      "|                                     | 1       | 512 (32.7)         | 270 (24.5)         | 242 (52.6)         |\n",
      "| persistent_psa, n (%)               | 0       | 1285 (82.2)        | 1025 (92.8)        | 260 (56.5)         |\n",
      "|                                     | 1       | 279 (17.8)         | 79 (7.2)           | 200 (43.5)         |\n",
      "| survival_months, median [Q1,Q3]     |         | 104.0 [65.0,159.0] | 104.0 [63.0,160.0] | 106.0 [68.8,157.2] |\n",
      "| Rpgleson, median [Q1,Q3]            |         | 7.0 [6.0,7.0]      | 7.0 [6.0,7.0]      | 7.0 [7.0,8.0]      |\n",
      "| TRYSgrupes, n (%)                   | 0       | 337 (21.5)         | 304 (27.5)         | 33 (7.2)           |\n",
      "|                                     | 1       | 926 (59.2)         | 702 (63.6)         | 224 (48.7)         |\n",
      "|                                     | 2       | 301 (19.2)         | 98 (8.9)           | 203 (44.1)         |\n",
      "| PLNDO1, n (%)                       | 0       | 962 (61.5)         | 762 (69.0)         | 200 (43.5)         |\n",
      "|                                     | 1       | 602 (38.5)         | 342 (31.0)         | 260 (56.5)         |\n",
      "| survival_months_bcr, median [Q1,Q3] |         | 41.5 [14.0,85.0]   | 55.0 [24.0,105.0]  | 15.5 [3.0,43.0]    |\n",
      "| survival_months_mts, median [Q1,Q3] |         | 62.0 [26.8,119.2]  | 55.0 [24.0,105.0]  | 82.0 [44.8,130.0]  | \n",
      "\n"
     ]
    }
   ],
   "source": [
    "# BCR\n",
    "columns = data.columns.tolist()\n",
    "columns_to_remove = ['patient_id', 'overall_mortality', 'mts', 'cancer_specific_mortality', 'death_from_other_causes']\n",
    "columns = [column for column in columns if column not in columns_to_remove]\n",
    "groupby = 'bcr'\n",
    "\n",
    "mytable = TableOne(data, columns=columns, groupby=groupby, nonnormal=nonnormal, \n",
    "                   min_max=min_max, missing=False, rename={'age': 'Age (years)'}, \n",
    "                   sort=False, categorical=categorical)\n",
    "print(mytable.tabulate(tablefmt=\"github\"), '\\n')\n",
    "mytable.to_excel('eda/'+groupby+'.xlsx')\n"
   ]
  },
  {
   "cell_type": "code",
   "execution_count": 14,
   "metadata": {},
   "outputs": [
    {
     "name": "stdout",
     "output_type": "stream",
     "text": [
      "|                                     |         | Overall            | 0                  | 1                 |\n",
      "|-------------------------------------|---------|--------------------|--------------------|-------------------|\n",
      "| n                                   |         | 1564               | 1465               | 99                |\n",
      "| Age (years), median [min,max]       |         | 64.0 [40.0,87.0]   | 64.0 [40.0,87.0]   | 65.0 [48.0,73.0]  |\n",
      "| psa, median [Q1,Q3]                 |         | 6.4 [4.8,9.7]      | 6.3 [4.8,9.4]      | 8.8 [6.5,14.3]    |\n",
      "| clinical_stage, n (%)               | 1       | 434 (27.7)         | 426 (29.1)         | 8 (8.1)           |\n",
      "|                                     | 2       | 911 (58.2)         | 852 (58.2)         | 59 (59.6)         |\n",
      "|                                     | 3       | 219 (14.0)         | 187 (12.8)         | 32 (32.3)         |\n",
      "| BxGleason, median [Q1,Q3]           |         | 6.0 [6.0,7.0]      | 6.0 [6.0,7.0]      | 7.0 [6.0,8.0]     |\n",
      "| biopsy_gleason_gg, n (%)            | 1       | 894 (57.2)         | 865 (59.0)         | 29 (29.3)         |\n",
      "|                                     | 2       | 479 (30.6)         | 447 (30.5)         | 32 (32.3)         |\n",
      "|                                     | 3       | 75 (4.8)           | 63 (4.3)           | 12 (12.1)         |\n",
      "|                                     | 4       | 79 (5.1)           | 67 (4.6)           | 12 (12.1)         |\n",
      "|                                     | 5       | 37 (2.4)           | 23 (1.6)           | 14 (14.1)         |\n",
      "| pathological_gleason_gg, n (%)      | 1       | 429 (27.4)         | 422 (28.8)         | 7 (7.1)           |\n",
      "|                                     | 2       | 788 (50.4)         | 760 (51.9)         | 28 (28.3)         |\n",
      "|                                     | 3       | 165 (10.5)         | 146 (10.0)         | 19 (19.2)         |\n",
      "|                                     | 4       | 84 (5.4)           | 76 (5.2)           | 8 (8.1)           |\n",
      "|                                     | 5       | 98 (6.3)           | 61 (4.2)           | 37 (37.4)         |\n",
      "| pathologic_stage, n (%)             | 0       | 999 (63.9)         | 973 (66.4)         | 26 (26.3)         |\n",
      "|                                     | 1       | 427 (27.3)         | 395 (27.0)         | 32 (32.3)         |\n",
      "|                                     | 2       | 138 (8.8)          | 97 (6.6)           | 41 (41.4)         |\n",
      "| lni, n (%)                          | 0.0     | 535 (34.2)         | 487 (33.2)         | 48 (48.5)         |\n",
      "|                                     | 1.0     | 67 (4.3)           | 41 (2.8)           | 26 (26.3)         |\n",
      "|                                     | unknown | 962 (61.5)         | 937 (64.0)         | 25 (25.3)         |\n",
      "| surgical_margin_status, n (%)       | 0       | 1052 (67.3)        | 1010 (68.9)        | 42 (42.4)         |\n",
      "|                                     | 1       | 512 (32.7)         | 455 (31.1)         | 57 (57.6)         |\n",
      "| persistent_psa, n (%)               | 0       | 1285 (82.2)        | 1245 (85.0)        | 40 (40.4)         |\n",
      "|                                     | 1       | 279 (17.8)         | 220 (15.0)         | 59 (59.6)         |\n",
      "| survival_months, median [Q1,Q3]     |         | 104.0 [65.0,159.0] | 105.0 [65.0,159.0] | 94.0 [60.5,145.0] |\n",
      "| Rpgleson, median [Q1,Q3]            |         | 7.0 [6.0,7.0]      | 7.0 [6.0,7.0]      | 7.0 [7.0,9.0]     |\n",
      "| TRYSgrupes, n (%)                   | 0       | 337 (21.5)         | 333 (22.7)         | 4 (4.0)           |\n",
      "|                                     | 1       | 926 (59.2)         | 892 (60.9)         | 34 (34.3)         |\n",
      "|                                     | 2       | 301 (19.2)         | 240 (16.4)         | 61 (61.6)         |\n",
      "| PLNDO1, n (%)                       | 0       | 962 (61.5)         | 937 (64.0)         | 25 (25.3)         |\n",
      "|                                     | 1       | 602 (38.5)         | 528 (36.0)         | 74 (74.7)         |\n",
      "| survival_months_bcr, median [Q1,Q3] |         | 41.5 [14.0,85.0]   | 44.0 [17.0,90.0]   | 3.0 [1.0,24.0]    |\n",
      "| survival_months_mts, median [Q1,Q3] |         | 62.0 [26.8,119.2]  | 62.0 [27.0,120.0]  | 61.0 [24.0,112.5] | \n",
      "\n"
     ]
    }
   ],
   "source": [
    "# MTS\n",
    "columns = data.columns.tolist()\n",
    "columns_to_remove = ['patient_id', 'bcr', 'overall_mortality', 'cancer_specific_mortality', 'death_from_other_causes']\n",
    "columns = [column for column in columns if column not in columns_to_remove]\n",
    "groupby = 'mts'\n",
    "\n",
    "mytable = TableOne(data, columns=columns, groupby=groupby, nonnormal=nonnormal, \n",
    "                   min_max=min_max, missing=False, rename={'age': 'Age (years)'}, \n",
    "                   sort=False, categorical=categorical)\n",
    "print(mytable.tabulate(tablefmt=\"github\"), '\\n')\n",
    "mytable.to_excel('eda/'+groupby+'.xlsx')"
   ]
  }
 ],
 "metadata": {
  "kernelspec": {
   "display_name": ".venv",
   "language": "python",
   "name": "python3"
  },
  "language_info": {
   "codemirror_mode": {
    "name": "ipython",
    "version": 3
   },
   "file_extension": ".py",
   "mimetype": "text/x-python",
   "name": "python",
   "nbconvert_exporter": "python",
   "pygments_lexer": "ipython3",
   "version": "3.10.4"
  },
  "orig_nbformat": 4,
  "vscode": {
   "interpreter": {
    "hash": "4313b30ba1dc00c95c03b070820057b6c164c878ae3e5e81f7647b57ebcaab7e"
   }
  }
 },
 "nbformat": 4,
 "nbformat_minor": 2
}
