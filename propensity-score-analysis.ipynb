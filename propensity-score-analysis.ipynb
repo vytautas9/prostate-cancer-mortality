{
 "cells": [
  {
   "attachments": {},
   "cell_type": "markdown",
   "metadata": {},
   "source": [
    "# Propensity Score Analysis\n",
    "We will perform a propensity score matching analysis. Our input is a training dataset and the output will be a smaller dataset which is homogenous based on lymph node status variable (lni).\n",
    "\n",
    "Doing so, we will lose a lot of patients. This can and will be reflected in the final predictions. To counter that, after making predictions, we'll have to calculate adjusted probabilities.\n",
    "\n",
    "Propensity score matching is done on binary variables, yet in our case, lni is a 3 level variable. To solve this, propensity score matching will be performed twice."
   ]
  },
  {
   "cell_type": "code",
   "execution_count": 14,
   "metadata": {},
   "outputs": [],
   "source": [
    "import pickle\n",
    "import pandas as pd\n",
    "import numpy as np\n",
    "\n",
    "# student's t-test\n",
    "from scipy.stats import ttest_ind\n",
    "\n",
    "# propensity score matching modules\n",
    "from psmpy import PsmPy"
   ]
  },
  {
   "cell_type": "code",
   "execution_count": 11,
   "metadata": {},
   "outputs": [],
   "source": [
    "def students_t_test_control_vs_treatment(control, treatment, alpha = 0.05):\n",
    "    print(f'Control mean: {control.mean():.3f}\\nTreatment mean: {treatment.mean():.3f}')\n",
    "    \n",
    "    # compare samples\n",
    "    _, p = ttest_ind(control, treatment)\n",
    "    print(f'p = {p:.3f}')\n",
    "    \n",
    "    # interpret\n",
    "    if p > alpha:\n",
    "        print('same distributions/same group mean (fail to reject H0 - we do not have enough evidence to reject H0)')\n",
    "    else:\n",
    "        print('different distributions/different group mean (reject H0)')"
   ]
  },
  {
   "cell_type": "code",
   "execution_count": 12,
   "metadata": {},
   "outputs": [
    {
     "name": "stdout",
     "output_type": "stream",
     "text": [
      "--------------------------------------\n",
      "Reading train data from: data/data_train.pkl ........\n",
      "Finished reading, loaded train dataset shape: (1251, 21)\n",
      "Read train column names: Index(['age', 'psa', 'clinical_stage', 'biopsy_gleason', 'biopsy_gleason_gg',\n",
      "       'pathological_gleason_gg', 'pathologic_stage', 'lni',\n",
      "       'surgical_margin_status', 'persistent_psa', 'survival_months',\n",
      "       'pathologic_gleason', 'TRYSgrupes', 'PLNDO1', 'survival_months_bcr',\n",
      "       'survival_months_mts', 'patient_id', 'bcr', 'mts',\n",
      "       'death_from_other_causes', 'cancer_specific_mortality'],\n",
      "      dtype='object')\n",
      "\n"
     ]
    }
   ],
   "source": [
    "trainFilePath = 'data/data_train.pkl'\n",
    "\n",
    "print('--------------------------------------')\n",
    "print(f'Reading train data from: {trainFilePath} ........')\n",
    "with open(trainFilePath, 'rb') as f:\n",
    "    data_train = pickle.load(f)\n",
    "print(f'Finished reading, loaded train dataset shape: {data_train.shape}')\n",
    "print(f'Read train column names: {data_train.columns}\\n')"
   ]
  },
  {
   "attachments": {},
   "cell_type": "markdown",
   "metadata": {},
   "source": [
    "## Propensity score matching for lymph nodes status \"Unknown\" and \"0\"\n",
    "We will firstly perform a matching algorithm between lymph node status \"Unknown\" and \"0\""
   ]
  },
  {
   "cell_type": "code",
   "execution_count": 36,
   "metadata": {},
   "outputs": [
    {
     "name": "stdout",
     "output_type": "stream",
     "text": [
      "LNI counts excluding (1):\n",
      " unknown    766\n",
      "0.0        430\n",
      "Name: lni, dtype: int64 \n",
      "\n",
      "LNI counts after renaming values for simplicity:\n",
      " 0    766\n",
      "1    430\n",
      "Name: lni, dtype: int64 \n",
      "\n"
     ]
    }
   ],
   "source": [
    "# prepare data\n",
    "\n",
    "# Firstly we'll perform propensity score matching on LNI \"Unknown and \"1\"\n",
    "train_lni_Unknown_0 = data_train.copy()\n",
    "train_lni_Unknown_0 = train_lni_Unknown_0[train_lni_Unknown_0.lni != '1.0']\n",
    "print('LNI counts excluding (1):\\n', train_lni_Unknown_0.lni.value_counts(), '\\n')\n",
    "\n",
    "# To make things simple, we'll rename values to '0' and '1'\n",
    "train_lni_Unknown_0['lni'].replace('0.0', '1', inplace=True)\n",
    "train_lni_Unknown_0['lni'].replace('unknown','0', inplace=True)\n",
    "print('LNI counts after renaming values for simplicity:\\n', train_lni_Unknown_0.lni.value_counts(), '\\n')"
   ]
  },
  {
   "cell_type": "code",
   "execution_count": 75,
   "metadata": {},
   "outputs": [
    {
     "name": "stdout",
     "output_type": "stream",
     "text": [
      "Initiating propensity score matchin class.....\n",
      "treatment column: lni\n",
      " index column: patient_id\n",
      "feature columns:  Index(['age', 'psa', 'biopsy_gleason', 'lni', 'pathologic_gleason',\n",
      "       'patient_id', 'clinical_stage_1', 'clinical_stage_2',\n",
      "       'clinical_stage_3', 'pathological_gleason_gg_1',\n",
      "       'pathological_gleason_gg_2', 'pathological_gleason_gg_3',\n",
      "       'pathological_gleason_gg_4', 'pathological_gleason_gg_5',\n",
      "       'biopsy_gleason_gg_1', 'biopsy_gleason_gg_2', 'biopsy_gleason_gg_3',\n",
      "       'biopsy_gleason_gg_4', 'biopsy_gleason_gg_5', 'pathologic_stage_0',\n",
      "       'pathologic_stage_1', 'pathologic_stage_2', 'surgical_margin_status_0',\n",
      "       'surgical_margin_status_1', 'persistent_psa_0', 'persistent_psa_1',\n",
      "       'TRYSgrupes_0', 'TRYSgrupes_1', 'TRYSgrupes_2'],\n",
      "      dtype='object')\n",
      "\n",
      "Before matching:\n",
      " 0    766\n",
      "1    430\n",
      "Name: lni, dtype: int64\n",
      "\n",
      "After  matching:\n",
      " 1    282\n",
      "0    281\n",
      "Name: lni, dtype: int64\n"
     ]
    },
    {
     "name": "stderr",
     "output_type": "stream",
     "text": [
      "c:\\Users\\Vytautas\\Studijos\\prostate-cancer-mortality\\.venv\\lib\\site-packages\\psmpy\\psmpy.py:363: UserWarning: Some values do not have a match. These are dropped for purposes of establishing a matched dataframe, and subsequent calculations and plots (effect size). If you do not wish this to be the case please set drop_unmatched=False\n",
      "  warnings.warn('Some values do not have a match. These are dropped for purposes of establishing a matched dataframe, and subsequent calculations and plots (effect size). If you do not wish this to be the case please set drop_unmatched=False')\n"
     ]
    }
   ],
   "source": [
    "# Get dummies for categorical variables\n",
    "X_propensity = pd.get_dummies(train_lni_Unknown_0, columns=['clinical_stage', 'pathological_gleason_gg', \n",
    "                                                     'biopsy_gleason_gg', 'pathologic_stage', \n",
    "                                                     'surgical_margin_status', 'persistent_psa',\n",
    "                                                     'TRYSgrupes']) \n",
    "\n",
    "# Initiate propensity score matching class\n",
    "psm_excluded_columns = ['cancer_specific_mortality', 'death_from_other_causes', 'mts', 'bcr', \n",
    "                       'survival_months', 'PLNDO1', 'survival_months_bcr', 'survival_months_mts']\n",
    "print(f'Initiating propensity score matchin class.....')\n",
    "print(f'treatment column: lni\\n index column: patient_id')\n",
    "print('feature columns: ', X_propensity.drop(psm_excluded_columns, axis=1).columns)\n",
    "psm = PsmPy(X_propensity, treatment='lni', indx='patient_id', \n",
    "            exclude = psm_excluded_columns)\n",
    "\n",
    "# Calculate propensity scores\n",
    "psm.logistic_ps(balance=False)\n",
    "#print(psm.predicted_data.head())\n",
    "\n",
    "# Match patients using propensity logit \n",
    "psm.knn_matched(matcher='propensity_logit', replacement=False, caliper=1.38)\n",
    "\n",
    "# plot matching results\n",
    "#psm.plot_match(Title='Matching Result', Ylabel='# of obs', Xlabel= 'propensity logit', names = ['treatment', 'control'])\n",
    "\n",
    "# get a list of matched ids\n",
    "matched_ids = psm.matched_ids[~np.isnan(psm.matched_ids.matched_ID)]\n",
    "all_ids = pd.concat([matched_ids.patient_id, matched_ids.matched_ID]).values\n",
    "\n",
    "# select only a subset of data with matched patients\n",
    "train_lni_Unknown_0_matched = psm.df_matched.query('patient_id in @all_ids')\n",
    "\n",
    "print('\\nBefore matching:\\n', train_lni_Unknown_0.lni.value_counts())\n",
    "print('\\nAfter  matching:\\n', train_lni_Unknown_0_matched.lni.value_counts())"
   ]
  },
  {
   "attachments": {},
   "cell_type": "markdown",
   "metadata": {},
   "source": [
    "homogeneity assumption testing"
   ]
  },
  {
   "cell_type": "code",
   "execution_count": 76,
   "metadata": {},
   "outputs": [
    {
     "name": "stdout",
     "output_type": "stream",
     "text": [
      "\n",
      "PSA:\n",
      "Control mean: 8.215\n",
      "Treatment mean: 8.676\n",
      "p = 0.200\n",
      "same distributions/same group mean (fail to reject H0 - we do not have enough evidence to reject H0)\n",
      "\n",
      "Age:\n",
      "Control mean: 64.331\n",
      "Treatment mean: 64.326\n",
      "p = 0.993\n",
      "same distributions/same group mean (fail to reject H0 - we do not have enough evidence to reject H0)\n",
      "\n",
      "biopsy_gleason:\n",
      "Control mean: 6.509\n",
      "Treatment mean: 6.539\n",
      "p = 0.599\n",
      "same distributions/same group mean (fail to reject H0 - we do not have enough evidence to reject H0)\n",
      "\n",
      "pathologic_gleason:\n",
      "Control mean: 6.854\n",
      "Treatment mean: 6.840\n",
      "p = 0.818\n",
      "same distributions/same group mean (fail to reject H0 - we do not have enough evidence to reject H0)\n"
     ]
    }
   ],
   "source": [
    "# student's t-test for numerical variables after matching\n",
    "print('\\nPSA:')\n",
    "students_t_test_control_vs_treatment(control=train_lni_Unknown_0_matched[train_lni_Unknown_0_matched.lni==0].psa, \n",
    "                                    treatment=train_lni_Unknown_0_matched[train_lni_Unknown_0_matched.lni==1].psa)\n",
    "print('\\nAge:')\n",
    "students_t_test_control_vs_treatment(control=train_lni_Unknown_0_matched[train_lni_Unknown_0_matched.lni==0].age, \n",
    "                                    treatment=train_lni_Unknown_0_matched[train_lni_Unknown_0_matched.lni==1].age)\n",
    "print('\\nbiopsy_gleason:')\n",
    "students_t_test_control_vs_treatment(control=train_lni_Unknown_0_matched[train_lni_Unknown_0_matched.lni==0].biopsy_gleason, \n",
    "                                    treatment=train_lni_Unknown_0_matched[train_lni_Unknown_0_matched.lni==1].biopsy_gleason)\n",
    "print('\\npathologic_gleason:')\n",
    "students_t_test_control_vs_treatment(control=train_lni_Unknown_0_matched[train_lni_Unknown_0_matched.lni==0].pathologic_gleason, \n",
    "                                    treatment=train_lni_Unknown_0_matched[train_lni_Unknown_0_matched.lni==1].pathologic_gleason)"
   ]
  },
  {
   "attachments": {},
   "cell_type": "markdown",
   "metadata": {},
   "source": [
    "## Propensity score matching for lymph nodes status \"{Unknown, 0}\" and \"1\"\n",
    "Now we will perform a matching algorithm between lymph node status {\"Unknown\", \"0\"} and \"1\""
   ]
  },
  {
   "cell_type": "code",
   "execution_count": 77,
   "metadata": {},
   "outputs": [
    {
     "name": "stdout",
     "output_type": "stream",
     "text": [
      "LNI counts only (1):\n",
      " 1.0    55\n",
      "Name: lni, dtype: int64 \n",
      "\n",
      "LNI counts of matched dataset:\n",
      " 1    282\n",
      "0    281\n",
      "Name: lni, dtype: int64 \n",
      "\n",
      "LNI counts of matched dataset (\"unknown\" and \"0\" have been merged):\n",
      " 0    563\n",
      "Name: lni, dtype: int64 \n",
      "\n",
      "LNI counts after combining dataset:\n",
      " 0    563\n",
      "1     55\n",
      "Name: lni, dtype: int64\n"
     ]
    }
   ],
   "source": [
    "# prepare data\n",
    "\n",
    "train_lni_1 = data_train.copy()\n",
    "\n",
    "# Because the previous matched dataset will already have dummy variables, we need to do the same\n",
    "# for this one at the start\n",
    "train_lni_1 = pd.get_dummies(train_lni_1, columns=['clinical_stage', 'pathological_gleason_gg', \n",
    "                                                   'biopsy_gleason_gg', 'pathologic_stage', \n",
    "                                                   'surgical_margin_status', 'persistent_psa',\n",
    "                                                   'TRYSgrupes']) \n",
    "\n",
    "# We need only data for lni == 1 this time.\n",
    "train_lni_1 = train_lni_1[train_lni_1.lni == '1.0']\n",
    "print('LNI counts only (1):\\n', train_lni_1.lni.value_counts(), '\\n')\n",
    "\n",
    "train_lni_1['lni'].replace('1.0', '1', inplace=True)\n",
    "train_lni_1 = train_lni_1.astype({'lni': 'int32'})\n",
    "\n",
    "# We take the copy of matched dataset\n",
    "train_lni_Unknown0_1 = train_lni_Unknown_0_matched.copy()\n",
    "train_lni_Unknown0_1 = train_lni_Unknown0_1.drop(['propensity_score', 'propensity_logit'], axis=1)\n",
    "train_lni_Unknown0_1.reset_index(inplace=True, drop=True)\n",
    "\n",
    "# \"Unknown\" and \"0\" lni's are both will be replaced with value \"0\"\n",
    "print('LNI counts of matched dataset:\\n', train_lni_Unknown0_1.lni.value_counts(), '\\n')\n",
    "train_lni_Unknown0_1['lni'].replace(1, 0, inplace=True)\n",
    "print('LNI counts of matched dataset (\"unknown\" and \"0\" have been merged):\\n', train_lni_Unknown0_1.lni.value_counts(), '\\n')\n",
    "\n",
    "# We combine matched dataset and dataset where lni == 1\n",
    "train_lni_Unknown0_1 = pd.concat([train_lni_Unknown0_1, train_lni_1])\n",
    "print('LNI counts after combining dataset:\\n', train_lni_Unknown0_1.lni.value_counts())"
   ]
  },
  {
   "cell_type": "code",
   "execution_count": 85,
   "metadata": {},
   "outputs": [
    {
     "name": "stdout",
     "output_type": "stream",
     "text": [
      "Initiating propensity score matchin class.....\n",
      "treatment column: lni\n",
      " index column: patient_id\n",
      "feature columns:  Index(['patient_id', 'age', 'psa', 'biopsy_gleason', 'pathologic_gleason',\n",
      "       'clinical_stage_1', 'clinical_stage_2', 'clinical_stage_3',\n",
      "       'pathological_gleason_gg_1', 'pathological_gleason_gg_2',\n",
      "       'pathological_gleason_gg_3', 'pathological_gleason_gg_4',\n",
      "       'pathological_gleason_gg_5', 'biopsy_gleason_gg_1',\n",
      "       'biopsy_gleason_gg_2', 'biopsy_gleason_gg_3', 'biopsy_gleason_gg_4',\n",
      "       'biopsy_gleason_gg_5', 'pathologic_stage_0', 'pathologic_stage_1',\n",
      "       'pathologic_stage_2', 'surgical_margin_status_0',\n",
      "       'surgical_margin_status_1', 'persistent_psa_0', 'persistent_psa_1',\n",
      "       'TRYSgrupes_0', 'TRYSgrupes_1', 'TRYSgrupes_2', 'lni'],\n",
      "      dtype='object')\n",
      "\n",
      "Before matching:\n",
      " 0    563\n",
      "1     55\n",
      "Name: lni, dtype: int64\n",
      "\n",
      "After  matching:\n",
      " 1    44\n",
      "0    44\n",
      "Name: lni, dtype: int64\n"
     ]
    },
    {
     "name": "stderr",
     "output_type": "stream",
     "text": [
      "c:\\Users\\Vytautas\\Studijos\\prostate-cancer-mortality\\.venv\\lib\\site-packages\\psmpy\\psmpy.py:363: UserWarning: Some values do not have a match. These are dropped for purposes of establishing a matched dataframe, and subsequent calculations and plots (effect size). If you do not wish this to be the case please set drop_unmatched=False\n",
      "  warnings.warn('Some values do not have a match. These are dropped for purposes of establishing a matched dataframe, and subsequent calculations and plots (effect size). If you do not wish this to be the case please set drop_unmatched=False')\n"
     ]
    }
   ],
   "source": [
    "psm_excluded_columns = ['cancer_specific_mortality', 'death_from_other_causes', 'mts', 'bcr', \n",
    "                       'survival_months', 'PLNDO1', 'survival_months_bcr', 'survival_months_mts',\n",
    "                       'matched_ID']\n",
    "print(f'Initiating propensity score matchin class.....')\n",
    "print(f'treatment column: lni\\n index column: patient_id')\n",
    "print('feature columns: ', train_lni_Unknown0_1.drop(psm_excluded_columns, axis=1).columns)\n",
    "\n",
    "psm = PsmPy(train_lni_Unknown0_1, treatment='lni', indx='patient_id', \n",
    "            exclude = psm_excluded_columns)\n",
    "\n",
    "# Calculate propensity scores\n",
    "psm.logistic_ps(balance=False)\n",
    "#print(psm.predicted_data.head())\n",
    "\n",
    "# Match patients using propensity logit \n",
    "psm.knn_matched(matcher='propensity_logit', replacement=False, caliper=2.9)\n",
    "\n",
    "# plot matching results\n",
    "#psm.plot_match(Title='Matching Result', Ylabel='# of obs', Xlabel= 'propensity logit', names = ['treatment', 'control'])\n",
    "\n",
    "# get a list of matched ids\n",
    "matched_ids = psm.matched_ids[~np.isnan(psm.matched_ids.matched_ID)]\n",
    "all_ids = pd.concat([matched_ids.patient_id, matched_ids.matched_ID]).values\n",
    "\n",
    "# select only a subset of data with matched patients\n",
    "train_lni_Unknown0_1_matched = psm.df_matched.query('patient_id in @all_ids')\n",
    "\n",
    "print('\\nBefore matching:\\n', train_lni_Unknown0_1.lni.value_counts())\n",
    "print('\\nAfter  matching:\\n', train_lni_Unknown0_1_matched.lni.value_counts())"
   ]
  },
  {
   "attachments": {},
   "cell_type": "markdown",
   "metadata": {},
   "source": [
    "homogeneity assumption testing"
   ]
  },
  {
   "cell_type": "code",
   "execution_count": 86,
   "metadata": {},
   "outputs": [
    {
     "name": "stdout",
     "output_type": "stream",
     "text": [
      "\n",
      "PSA:\n",
      "\n",
      "Control mean: 12.410\n",
      "Treatment mean: 13.278\n",
      "p = 0.597\n",
      "same distributions/same group mean (fail to reject H0 - we do not have enough evidence to reject H0)\n",
      "\n",
      "Age:\n",
      "\n",
      "Control mean: 64.045\n",
      "Treatment mean: 63.727\n",
      "p = 0.796\n",
      "same distributions/same group mean (fail to reject H0 - we do not have enough evidence to reject H0)\n",
      "\n",
      "biopsy_gleason:\n",
      "\n",
      "Control mean: 7.068\n",
      "Treatment mean: 7.364\n",
      "p = 0.147\n",
      "same distributions/same group mean (fail to reject H0 - we do not have enough evidence to reject H0)\n",
      "\n",
      "pathologic_gleason:\n",
      "\n",
      "Control mean: 7.705\n",
      "Treatment mean: 8.068\n",
      "p = 0.062\n",
      "same distributions/same group mean (fail to reject H0 - we do not have enough evidence to reject H0)\n"
     ]
    }
   ],
   "source": [
    "# student's t-test for numerical variables after matching\n",
    "print('\\nPSA:\\n')\n",
    "students_t_test_control_vs_treatment(control=train_lni_Unknown0_1_matched[train_lni_Unknown0_1_matched.lni==0].psa, \n",
    "                                    treatment=train_lni_Unknown0_1_matched[train_lni_Unknown0_1_matched.lni==1].psa)\n",
    "print('\\nAge:\\n')\n",
    "students_t_test_control_vs_treatment(control=train_lni_Unknown0_1_matched[train_lni_Unknown0_1_matched.lni==0].age, \n",
    "                                    treatment=train_lni_Unknown0_1_matched[train_lni_Unknown0_1_matched.lni==1].age)\n",
    "print('\\nbiopsy_gleason:\\n')\n",
    "students_t_test_control_vs_treatment(control=train_lni_Unknown0_1_matched[train_lni_Unknown0_1_matched.lni==0].biopsy_gleason, \n",
    "                                    treatment=train_lni_Unknown0_1_matched[train_lni_Unknown0_1_matched.lni==1].biopsy_gleason)\n",
    "print('\\npathologic_gleason:\\n')\n",
    "students_t_test_control_vs_treatment(control=train_lni_Unknown0_1_matched[train_lni_Unknown0_1_matched.lni==0].pathologic_gleason, \n",
    "                                    treatment=train_lni_Unknown0_1_matched[train_lni_Unknown0_1_matched.lni==1].pathologic_gleason)"
   ]
  },
  {
   "cell_type": "code",
   "execution_count": 87,
   "metadata": {},
   "outputs": [],
   "source": [
    "# We want to take a subset of original training dataset based on our matched ids\n",
    "all_ids = train_lni_Unknown0_1_matched.patient_id.values\n",
    "\n",
    "# select only a subset of data with matched patients\n",
    "data_train_homogenous = data_train.query('patient_id in @all_ids')"
   ]
  },
  {
   "cell_type": "code",
   "execution_count": 88,
   "metadata": {},
   "outputs": [
    {
     "name": "stdout",
     "output_type": "stream",
     "text": [
      "Saving homogenous train dataset.......\n",
      "Finished saving homogenous train dataset \n",
      "\n"
     ]
    }
   ],
   "source": [
    "# save homogenous train dataset\n",
    "print(f'Saving homogenous train dataset.......')\n",
    "with open('data/data_train_homogenous.pkl', 'wb') as f:\n",
    "    pickle.dump(data_train_homogenous, f)\n",
    "print('Finished saving homogenous train dataset','\\n')"
   ]
  }
 ],
 "metadata": {
  "kernelspec": {
   "display_name": ".venv",
   "language": "python",
   "name": "python3"
  },
  "language_info": {
   "codemirror_mode": {
    "name": "ipython",
    "version": 3
   },
   "file_extension": ".py",
   "mimetype": "text/x-python",
   "name": "python",
   "nbconvert_exporter": "python",
   "pygments_lexer": "ipython3",
   "version": "3.10.4"
  },
  "orig_nbformat": 4,
  "vscode": {
   "interpreter": {
    "hash": "4313b30ba1dc00c95c03b070820057b6c164c878ae3e5e81f7647b57ebcaab7e"
   }
  }
 },
 "nbformat": 4,
 "nbformat_minor": 2
}
